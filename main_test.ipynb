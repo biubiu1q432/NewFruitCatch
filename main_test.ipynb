{
 "cells": [
  {
   "cell_type": "code",
   "execution_count": null,
   "metadata": {
    "collapsed": false
   },
   "outputs": [],
   "source": [
    "%load_ext autoreload\n",
    "%autoreload 2\n"
   ]
  },
  {
   "cell_type": "code",
   "execution_count": null,
   "metadata": {
    "collapsed": false
   },
   "outputs": [],
   "source": [
    "import sys\n",
    "sys.path.append(\"/home/dianfei/catch_robot_v2\")"
   ]
  },
  {
   "cell_type": "code",
   "execution_count": 1,
   "metadata": {
    "collapsed": false
   },
   "outputs": [],
   "source": [
    "import os\n",
    "import cv2\n",
    "import time\n",
    "from datetime import datetime\n",
    "import math\n",
    "import serial\n",
    "import colorama\n",
    "import threading\n",
    "import numpy as np\n",
    "import multiprocessing\n",
    "from utils.Camera import *\n",
    "from utils.Run import *\n",
    "# from utils.Arm_Control import *\n",
    "from utils.Car import *\n",
    "from utils.Cross_Detect import *\n",
    "from utils.Arm_Control import *\n",
    "import rclpy\n",
    "import contextlib\n",
    "import builtins\n",
    "from rclpy.node import Node\n",
    "from std_msgs.msg import String\n",
    "from sensor_msgs.msg import Image\n",
    "from concurrent.futures import ThreadPoolExecutor, as_completed\n",
    "from playsound import playsound"
   ]
  },
  {
   "cell_type": "code",
   "execution_count": null,
   "metadata": {
    "collapsed": false
   },
   "outputs": [],
   "source": [
    "%load_ext autoreload\n",
    "%autoreload 1\n",
    "%aimport utils.Camera\n",
    "%aimport utils.Run\n",
    "%aimport utils.Car\n",
    "%aimport utils.Cross_Detect\n",
    "%aimport utils.Arm_Control\n",
    "# %aimport utils."
   ]
  },
  {
   "cell_type": "code",
   "execution_count": null,
   "metadata": {
    "collapsed": false
   },
   "outputs": [],
   "source": []
  },
  {
   "cell_type": "code",
   "execution_count": null,
   "metadata": {
    "collapsed": false
   },
   "outputs": [],
   "source": [
    "px = 0.0014  # 像素点大小\n",
    "f = 1.8  # 摄像头焦距\n",
    "# camera_to_claw = 60  # 爪子离相机距离\n",
    "height = 115  # 云台离地高度\n",
    "\n",
    "class ThreadPool:\n",
    "    def __init__(self, num=6):\n",
    "        self.pool = ThreadPoolExecutor(max_workers=num)\n",
    "        self.tasks = {}\n",
    "        self.create_group([\"catch\", \"aim\", \"put_down\", \"socket\", \"detect\"])\n",
    "        self.local = thread_local\n",
    "\n",
    "    def logit(self, func, info, group):\n",
    "        @wraps(func)\n",
    "        def wrapper(*args, **kwargs):\n",
    "            current_thread = threading.current_thread()\n",
    "            self.local.info = info\n",
    "            self.local.group = group\n",
    "            return func(*args, **kwargs)\n",
    "        return wrapper\n",
    "\n",
    "    def create_group(self, groups):\n",
    "        if isinstance(groups, str):\n",
    "            self.tasks[groups] = {}\n",
    "        elif isinstance(groups, list):\n",
    "            for group in groups:\n",
    "                self.tasks[group] = {}\n",
    "        else:\n",
    "            raise ValueError(\"groups must be a string or a list\")\n",
    "\n",
    "    def add_task(self, func, *args, **kwargs):\n",
    "        if \"info\" in kwargs:\n",
    "            info = kwargs.pop(\"info\")\n",
    "        else:\n",
    "            info = None\n",
    "        if \"group\" in kwargs:\n",
    "            group = kwargs.pop(\"group\")\n",
    "        else:\n",
    "            group = None\n",
    "\n",
    "        func = self.logit(func, info, group)\n",
    "        future = self.pool.submit(func, *args, **kwargs)\n",
    "\n",
    "        if info is not None and group is not None:\n",
    "            self.tasks[group][info] = future\n",
    "\n",
    "        elif info is not None:\n",
    "            self.tasks[info] = future\n",
    "\n",
    "    def remove_task(self, info, group):\n",
    "        if group in self.tasks:\n",
    "            if info in self.tasks[group]:\n",
    "                del self.tasks[group][info]\n",
    "            else:\n",
    "                print(f\"Task with info {info} not found in group {group}\")\n",
    "\n",
    "        else:\n",
    "            print(f\"Group with name {group} not found\")\n",
    "\n",
    "    def wait(self, info, group):\n",
    "        # print(self.tasks)\n",
    "        if group in self.tasks:\n",
    "            if info in self.tasks[group]:\n",
    "                result = self.tasks[group][info].result()\n",
    "                self.remove_task(info, group)\n",
    "                return result\n",
    "        print(f\"Task with info {info} not found in group {group}\")\n",
    "        return None\n",
    "\n",
    "    def wait_completion(self):\n",
    "        self.pool.shutdown(wait=True)\n",
    "\n",
    "\n",
    "pool = ThreadPool()\n",
    "\n",
    "def detect_and_aim_threading(catcher: Catcher, mode=\"fruit\", is_show=False):\n",
    "    time.sleep(0.1)\n",
    "    if mode == \"fruit\":\n",
    "        status, result = catcher.aim_fruit(is_show=is_show)\n",
    "    else:\n",
    "        status, result = catcher.aim_vegetable(is_show=is_show)\n",
    "\n",
    "    if status:  # 对齐成功\n",
    "        time.sleep(0.1)\n",
    "        if mode == \"fruit\":\n",
    "            catch_status = catcher.catch_fruit()\n",
    "        else:\n",
    "            catch_status = catcher.catch_vegetable()\n",
    "\n",
    "        if catch_status:  # 抓取成功\n",
    "            # threading.Thread(target=catcher.arm.put_down, args=(), name=catcher.arm.local).start()\n",
    "            # catcher.arm.put_down()\n",
    "            return True\n",
    "        else:  # 抓取失败\n",
    "            catcher.arm.reset()\n",
    "            return False\n",
    "\n",
    "    elif status is False:   # 没有成熟水果的情况\n",
    "        catcher.arm.reset()\n",
    "        return False\n",
    "    else:   # 对齐失败的情况\n",
    "        return None\n",
    "\n",
    "\n",
    "def class_init(Option):\n",
    "    Img_Receiver = Image_Receiver(name=Option[\"video\"][\"node_name\"], topic=Option[\"video\"][\"img_topic\"])\n",
    "    executor = rclpy.executors.SingleThreadedExecutor()\n",
    "    camera = Camera(Option[\"video\"][\"video_ser\"], img_receiver=Img_Receiver, executor=executor, system_type=\"Linux\")\n",
    "    arm = Arm(local=Option[\"local\"])\n",
    "    arm.init(Option[\"arm_ser\"])\n",
    "    arm.run_thread()\n",
    "    catcher = Catcher(arm, camera)\n",
    "\n",
    "    return catcher, camera, arm\n"
   ]
  },
  {
   "cell_type": "code",
   "execution_count": null,
   "metadata": {
    "collapsed": false
   },
   "outputs": [],
   "source": [
    "Option = {\n",
    "    \"left\": {\n",
    "        \"video\": {\"video_ser\": \"/dev/video_left\",\n",
    "                  \"node_name\": \"Image_Receiver_left\",\n",
    "                  \"img_topic\": \"/dev/video_left\",\n",
    "                  },\n",
    "        \"local\": \"left\",\n",
    "        \"arm_ser\": {\n",
    "            \"port\": \"/dev/arm_left\",\n",
    "            \"baud_rate\": 115200\n",
    "        }\n",
    "    },\n",
    "\n",
    "    \"right\": {\n",
    "        \"video\": {\"video_ser\": \"/dev/video_right\",\n",
    "                  \"node_name\": \"Image_Receiver_right\",\n",
    "                  \"img_topic\": \"/dev/video_right\",\n",
    "                  },\n",
    "        \"local\": \"right\",\n",
    "        \"arm_ser\": {\n",
    "            \"port\": \"/dev/arm_right\",\n",
    "            \"baud_rate\": 115200\n",
    "        }\n",
    "    },\n",
    "    \"Car_Serial\": {\n",
    "        \"port\": \"/dev/car\",\n",
    "        \"baud_rate\": 115200\n",
    "    }\n",
    "}\n"
   ]
  },
  {
   "cell_type": "code",
   "execution_count": null,
   "metadata": {
    "collapsed": false
   },
   "outputs": [],
   "source": [
    "rclpy.init()"
   ]
  },
  {
   "cell_type": "code",
   "execution_count": null,
   "metadata": {
    "collapsed": false
   },
   "outputs": [],
   "source": [
    "Option1 = Option[\"left\"]\n",
    "Img_Receiver_left = Image_Receiver(name=Option1[\"video\"][\"node_name\"], topic=Option1[\"video\"][\"img_topic\"])\n",
    "executor_left = rclpy.executors.SingleThreadedExecutor()\n",
    "Option2 = Option[\"right\"]\n",
    "Img_Receiver_right = Image_Receiver(name=Option2[\"video\"][\"node_name\"], topic=Option2[\"video\"][\"img_topic\"])\n",
    "executor_right = rclpy.executors.SingleThreadedExecutor()"
   ]
  },
  {
   "cell_type": "code",
   "execution_count": null,
   "metadata": {
    "collapsed": false
   },
   "outputs": [],
   "source": [
    "camera_left = Camera(Option1[\"video\"][\"video_ser\"], img_receiver=Img_Receiver_left, executor=executor_left, system_type=\"Linux\")"
   ]
  },
  {
   "cell_type": "code",
   "execution_count": null,
   "metadata": {
    "collapsed": false
   },
   "outputs": [],
   "source": [
    "camera_right = Camera(Option2[\"video\"][\"video_ser\"], img_receiver=Img_Receiver_right, executor=executor_right, system_type=\"Linux\")"
   ]
  },
  {
   "cell_type": "code",
   "execution_count": null,
   "metadata": {
    "collapsed": false
   },
   "outputs": [],
   "source": [
    "\n",
    "camera_right.detect(conf=0.6, is_show=True, limit_area=3000)"
   ]
  },
  {
   "cell_type": "code",
   "execution_count": null,
   "metadata": {
    "collapsed": false
   },
   "outputs": [],
   "source": []
  },
  {
   "cell_type": "code",
   "execution_count": null,
   "metadata": {
    "collapsed": false
   },
   "outputs": [],
   "source": [
    "arm_left = Arm(local=Option1[\"local\"])\n",
    "arm_left.init(Option1[\"arm_ser\"])\n",
    "arm_left.run_thread()"
   ]
  },
  {
   "cell_type": "code",
   "execution_count": null,
   "metadata": {
    "collapsed": false
   },
   "outputs": [],
   "source": [
    "arm_right = Arm(local=Option2[\"local\"])\n",
    "arm_right.init(Option2[\"arm_ser\"])\n",
    "arm_right.run_thread()"
   ]
  },
  {
   "cell_type": "code",
   "execution_count": null,
   "metadata": {
    "collapsed": false
   },
   "outputs": [],
   "source": [
    "# arm_left.pre_aim(action=1)\n",
    "arm_right.start_aim(\"fruit\")"
   ]
  },
  {
   "cell_type": "code",
   "execution_count": null,
   "metadata": {
    "collapsed": false
   },
   "outputs": [],
   "source": [
    "arm_left.send_pwm(5, 1950)"
   ]
  },
  {
   "cell_type": "code",
   "execution_count": null,
   "metadata": {
    "collapsed": false
   },
   "outputs": [],
   "source": [
    "arm_right.start_aim_fruit_action = (0, 190, 305, -8)"
   ]
  },
  {
   "cell_type": "code",
   "execution_count": null,
   "metadata": {
    "collapsed": false
   },
   "outputs": [],
   "source": [
    "arm_right.send_ordinate(0, 180, 305, -8)"
   ]
  },
  {
   "cell_type": "code",
   "execution_count": null,
   "metadata": {
    "collapsed": false
   },
   "outputs": [],
   "source": [
    "detect_and_aim_threading(catcher=catcher_right, mode=\"fruit\")"
   ]
  },
  {
   "cell_type": "code",
   "execution_count": null,
   "metadata": {
    "collapsed": false
   },
   "outputs": [],
   "source": [
    "arm_left.send_ordinate(0, 170, 430, 15)"
   ]
  },
  {
   "cell_type": "code",
   "execution_count": null,
   "metadata": {
    "collapsed": false
   },
   "outputs": [],
   "source": [
    "arm_right.reset()"
   ]
  },
  {
   "cell_type": "code",
   "execution_count": null,
   "metadata": {
    "collapsed": false
   },
   "outputs": [],
   "source": [
    "arm_right.send_ordinate(0, 180, 350, -15)"
   ]
  },
  {
   "cell_type": "code",
   "execution_count": null,
   "metadata": {
    "collapsed": false
   },
   "outputs": [],
   "source": [
    "catcher_left = Catcher(arm_left, camera_left)\n",
    "catcher_right = Catcher(arm_right, camera_right)"
   ]
  },
  {
   "cell_type": "code",
   "execution_count": null,
   "metadata": {
    "collapsed": false
   },
   "outputs": [],
   "source": [
    "arm_left.start_aim_fruit_action = (0, 180, 430, 15)"
   ]
  },
  {
   "cell_type": "code",
   "execution_count": null,
   "metadata": {
    "collapsed": false
   },
   "outputs": [],
   "source": []
  },
  {
   "cell_type": "code",
   "execution_count": null,
   "metadata": {
    "collapsed": false
   },
   "outputs": [],
   "source": [
    "catcher_right.aim_fruit()"
   ]
  },
  {
   "cell_type": "code",
   "execution_count": null,
   "metadata": {
    "collapsed": false
   },
   "outputs": [],
   "source": [
    "catcher_right.catch_fruit()"
   ]
  },
  {
   "cell_type": "code",
   "execution_count": null,
   "metadata": {
    "collapsed": false
   },
   "outputs": [],
   "source": [
    "arm_left.start_aim(\"vegetable\")"
   ]
  },
  {
   "cell_type": "code",
   "execution_count": null,
   "metadata": {
    "collapsed": false
   },
   "outputs": [],
   "source": [
    "# arm_right.send_pwm(1, 1300)\n",
    "# time.sleep(0.5)\n",
    "\n",
    "arm_right.start_aim()"
   ]
  },
  {
   "cell_type": "code",
   "execution_count": null,
   "metadata": {
    "collapsed": false
   },
   "outputs": [],
   "source": [
    "arm_right.reset()"
   ]
  },
  {
   "cell_type": "code",
   "execution_count": null,
   "metadata": {
    "collapsed": false
   },
   "outputs": [],
   "source": [
    "arm_right.get_ordinate()"
   ]
  },
  {
   "cell_type": "code",
   "execution_count": null,
   "metadata": {
    "collapsed": false
   },
   "outputs": [],
   "source": [
    "arm_right.arm_pwm"
   ]
  },
  {
   "cell_type": "code",
   "execution_count": null,
   "metadata": {
    "collapsed": false
   },
   "outputs": [],
   "source": [
    "car = Car_Bridge()\n",
    "car.init(Option[\"Car_Serial\"])\n",
    "car.run_thread()"
   ]
  },
  {
   "cell_type": "code",
   "execution_count": null,
   "metadata": {
    "collapsed": false
   },
   "outputs": [],
   "source": [
    "def proof_location(result, goal_dis):\n",
    "    print(result)\n",
    "    bias = 0\n",
    "    deep = result[\"deep\"]\n",
    "    x_dis = result[\"x_distance\"]\n",
    "    y_dis = result[\"y_distance\"]\n",
    "    if abs(x_dis) > 250:\n",
    "        bias = 0.03\n",
    "    elif abs(x_dis) < 45:\n",
    "        bias = -0.02\n",
    "    if abs(y_dis) > 120 or abs(x_dis) > 230:\n",
    "        bias += 0.05\n",
    "    side = x_dis * 0.0014 * deep / 1.8\n",
    "    print(side)\n",
    "    A = -74.79063\n",
    "    B = 2.64051\n",
    "    goal_side = A + B * -side\n",
    "\n",
    "    dis = int(deep) / 1000 - goal_dis\n",
    "    side = int(goal_side) / 1000 - bias*goal_side/abs(goal_side)\n",
    "    dis = int(dis * 1000) / 1000\n",
    "    side = int(side * 1000) / 1000\n",
    "    print(f\"dis: {dis}, side: {side}\")\n",
    "    car.sideway(dis, -side)\n",
    "\n",
    "\n",
    "def pre_detect_apple(camera: Camera, goal_dis=0.30, mode=\"left\", is_show=False):\n",
    "    \"\"\"\n",
    "\n",
    "    :param mode: 那一边没有苹果，就跟偏向那边，避免误识别\n",
    "    :return: 返回值的使用：先判断红苹果数，有的话后面的值才有意义，middle意味着两边可同时抓，None表示有多个需要抓，且不能同时\n",
    "    \"\"\"\n",
    "    frame, results = camera.model_detect(conf=0.87, is_show=is_show, limit_area=4000)\n",
    "\n",
    "    red_apple_num = 0\n",
    "    green_apple_num = 0\n",
    "    red_apple_index_list = []\n",
    "    green_apple_index_list = []\n",
    "    status = None\n",
    "\n",
    "    if results[0][\"color\"] == \"None\":     # 没有东西的情况，正常不会发生\n",
    "        print(\"没有识别到东西\")\n",
    "        return True, red_apple_num, None\n",
    "\n",
    "    results.sort(key=lambda x: x[\"area\"], reverse=True)\n",
    "    if len(results) >= 4:\n",
    "        results = results[:4]   # 现以面积筛选掉小面积的\n",
    "        if mode == \"left\":\n",
    "            results.sort(key=lambda x: x[\"cx\"])\n",
    "        else:\n",
    "            results.sort(key=lambda x: x[\"cx\"], reverse=True)\n",
    "        goal_results = results[:3]\n",
    "    else:\n",
    "        goal_results = results\n",
    "\n",
    "    # if results[0][\"area\"] < 5500:\n",
    "    #     car.go_distance(0.03)\n",
    "    goal_results.sort(key=lambda x: x[\"cx\"])\n",
    "    arm_left.reset()\n",
    "    print(goal_results)\n",
    "    for i, result in enumerate(goal_results):\n",
    "\n",
    "        if i == 0:\n",
    "            cx = result[\"cx\"]\n",
    "            cy = result[\"cy\"]\n",
    "            w = result[\"w\"]\n",
    "            h = result[\"h\"]\n",
    "            x1 = cx - 0.5 * w\n",
    "            y1 = cy - 0.5 * h\n",
    "            x2 = cx + 0.5 * w\n",
    "            y2 = cy + 0.5 * h\n",
    "            cv2.putText(frame,\n",
    "                            f'goal_apple', (int(x1), int(y2 - 2)),\n",
    "                            cv2.FONT_HERSHEY_SIMPLEX,\n",
    "                            0.60, (255, 0, 0),\n",
    "                            thickness=1)\n",
    "            # 获取当前时间，并格式化为文件名\n",
    "            current_time = time.strftime(\"%m-%d %H:%M:%S\", time.localtime())\n",
    "            cv2.imwrite(f\"/home/dianfei/catch_robot_v2/picture/pre_detect_{current_time}.jpg\", frame)\n",
    "            proof_location(result=result, goal_dis=goal_dis)\n",
    "\n",
    "        if result[\"cx\"] < 30 or result[\"cx\"] > 620:     # 过于靠边抛弃\n",
    "            continue\n",
    "        if \"red\" in result[\"color\"]:\n",
    "            red_apple_num += 1\n",
    "            red_apple_index_list.append(i)\n",
    "        elif \"green\" in result[\"color\"]:\n",
    "            green_apple_num += 1\n",
    "            green_apple_index_list.append(i)\n",
    "\n",
    "    if red_apple_num == 0:\n",
    "        status = None\n",
    "    elif red_apple_num == 1:\n",
    "        if red_apple_index_list[0] == 0 or red_apple_index_list[0] == 1:\n",
    "            status = \"left\"\n",
    "        else:\n",
    "            status = \"right\"\n",
    "    elif red_apple_num == 2:\n",
    "        if red_apple_index_list[0] + 1 == red_apple_index_list[1]:  # 两个红色苹果紧挨\n",
    "            if green_apple_index_list:\n",
    "                if green_apple_index_list[0] == 0:  # 绿色最左\n",
    "                    status = \"right next\"\n",
    "                else:\n",
    "                    status = \"left next\"\n",
    "            else:\n",
    "                status = \"left next\"\n",
    "        else:\n",
    "            status = \"no next\"\n",
    "    elif red_apple_num == 3:\n",
    "        status = \"all\"\n",
    "\n",
    "    print(f\"red_apple_num: {red_apple_num}, status: {status}\")\n",
    "\n",
    "    return True, red_apple_num, status\n",
    "\n",
    "    # if red_apple_num > 0:\n",
    "    #     if len(results) == 3:   # 正常情况\n",
    "    #         if red_apple_num == 1:\n",
    "    #             if red_apple_index_list[0] == 0 or red_apple_index_list[0] == 1:\n",
    "    #                 return True, red_apple_num, \"left\"\n",
    "    #             else:\n",
    "    #                 return True, red_apple_num, \"right\"\n",
    "    #         elif red_apple_num == 2:\n",
    "    #             if green_apple_index_list[0] == 1:  # 绿色在中间，两边可同时抓\n",
    "    #                 return True, red_apple_num,  \"next\"\n",
    "    #             else:   # 两个红色苹果紧挨\n",
    "    #                 return True, red_apple_num, \"beside\"\n",
    "    #         else:\n",
    "    #             return True, red_apple_num, \"all\"\n",
    "    #     # 一般不会进入以下判断\n",
    "    #     elif len(results) > 3:   # 多识别了东西\n",
    "    #         print(\"多识别到东西\")\n",
    "    #         if red_apple_num > 1:\n",
    "    #             return True, red_apple_num, None\n",
    "    #         else:   # 只有一个红色\n",
    "    #             if red_apple_index_list[0] <= 1:\n",
    "    #                 return True, red_apple_num, \"left\"\n",
    "    #             else:\n",
    "    #                 return True, red_apple_num, \"right\"\n",
    "    #\n",
    "    #     else:\n",
    "    #         print(\"少识别东西\")\n",
    "    #         if red_apple_num > 1:\n",
    "    #             return True, red_apple_num, None\n",
    "    #         else:   # 只有一个红色\n",
    "    #             if red_apple_index_list[0] < 1:\n",
    "    #                 return True, red_apple_num, \"left\"\n",
    "    #             else:\n",
    "    #                 return True, red_apple_num, \"right\"\n",
    "    #\n",
    "    # else:\n",
    "    #     return True, red_apple_num, None\n",
    "\n",
    "\n",
    "def prepare_aim(red_apple_num, mode):\n",
    "    # arm_left.send_pwm(5, 1700)\n",
    "    # time.sleep(0.5)\n",
    "    # arm_left.reset()\n",
    "    # arm_right.reset()\n",
    "    # time.sleep(1)\n",
    "    if red_apple_num == 0:\n",
    "        arm_left.reset()\n",
    "        arm_right.reset()\n",
    "        return True\n",
    "\n",
    "    elif red_apple_num == 1:\n",
    "        if mode == \"left\":\n",
    "            arm_left.send_pwm(0, 800, times=300)\n",
    "            time.sleep(0.5)\n",
    "            pool.add_task(arm_left.start_aim, mode=\"apple\", info=\"left_thread\", group=\"aim\")\n",
    "        else:\n",
    "            arm_right.send_pwm(0, 2000, times=300)\n",
    "            time.sleep(0.5)\n",
    "            pool.add_task(arm_right.start_aim, mode=\"apple\", info=\"right_thread\", group=\"aim\")\n",
    "\n",
    "    elif red_apple_num == 2 or red_apple_num == 3:\n",
    "\n",
    "        time.sleep(0.5)\n",
    "        if mode == \"no next\" or mode == \"all\":\n",
    "            arm_right.send_pwm(0, 2000, times=300)\n",
    "            arm_left.send_pwm(0, 700, times=300)\n",
    "            time.sleep(0.3)\n",
    "            arm_left.send_pwm(5, 1700, times=300)\n",
    "            pool.add_task(arm_left.start_aim, mode=\"apple\", info=\"left_thread\", group=\"aim\")\n",
    "            pool.add_task(arm_right.start_aim, mode=\"apple\", info=\"right_thread\", group=\"aim\")\n",
    "            pool.wait(\"right_thread\", group=\"aim\")\n",
    "            pool.wait(\"left_thread\", group=\"aim\")\n",
    "        elif mode == \"left next\":\n",
    "            arm_right.reset()\n",
    "            arm_left.send_pwm(0, 700, times=300)\n",
    "            arm_right.add_pwm(3, 200)\n",
    "            pool.add_task(arm_left.start_aim, mode=\"apple\", info=\"left_thread\", group=\"aim\")\n",
    "            pool.wait(\"left_thread\", group=\"aim\")\n",
    "        elif mode == \"right next\":\n",
    "            arm_left.reset()\n",
    "            arm_right.send_pwm(0, 2000, times=300)\n",
    "            arm_left.add_pwm(3, 200)\n",
    "            pool.add_task(arm_right.start_aim, mode=\"apple\", info=\"right_thread\", group=\"aim\")\n",
    "            pool.wait(\"right_thread\", group=\"aim\")\n",
    "\n",
    "    time.sleep(0.5)\n",
    "\n",
    "    return True\n",
    "\n",
    "\n",
    "def detect_and_aim_apple_threading(catcher: Catcher, is_show=False):\n",
    "    time.sleep(0.1)\n",
    "    status, result = catcher.aim_apple(is_show=is_show)\n",
    "\n",
    "    if status:  # 对齐成功\n",
    "        time.sleep(0.1)\n",
    "        catch_status = catcher.catch_apple()\n",
    "\n",
    "        if catch_status:  # 抓取成功\n",
    "            # threading.Thread(target=catcher.arm.put_down, args=(), name=catcher.arm.local).start()\n",
    "            # catcher.arm.put_down()\n",
    "            return True\n",
    "        else:  # 抓取失败\n",
    "            catcher.arm.reset_except_lower()\n",
    "            return False\n",
    "\n",
    "    elif status is False:   # 没有成熟水果的情况\n",
    "        catcher.arm.reset_except_lower()\n",
    "        return False\n",
    "    else:   # 对齐失败的情况\n",
    "        return None\n",
    "\n",
    "\n",
    "def catch_apple_all_action(red_apple_num, mode, side=\"right\"):\n",
    "    right_is_put = False\n",
    "    left_is_put = False\n",
    "    if red_apple_num > 0:\n",
    "\n",
    "        if mode == \"no next\" or mode == \"all\":    # (青苹果在中间或是全是红色，两边瞄准后同时抓）\n",
    "            pool.add_task(catcher_right.aim_apple, is_show=False, info='Right Arm', group=\"catch\")\n",
    "            pool.add_task(catcher_left.aim_apple, is_show=False, info='Left Arm', group=\"catch\")\n",
    "            right_status, right_result = pool.wait(info=\"Right Arm\", group=\"catch\")\n",
    "            left_status, left_status = pool.wait(info=\"Left Arm\", group=\"catch\")\n",
    "\n",
    "            # for i in range(2):\n",
    "            #     for future in as_completed(pool.tasks[\"catch\"].values()):\n",
    "            #         info = [key for key, value in pool.tasks[\"catch\"].items() if value == future][0]  # 得到当前完成线程的名字\n",
    "            #         result = future.result()  # 获得线程函数完成的返回值\n",
    "            #         if isinstance(result, tuple):\n",
    "            #             status = result[0]\n",
    "            #         else:\n",
    "            #             status = result\n",
    "            #         if status:\n",
    "            #             if info == \"Left Arm\":\n",
    "            #                 pool.remove_task(info, group=\"catch\")\n",
    "            #                 pool.add_task(catcher_left.catch_apple, mode=mode, info=\"Left Arm\", group=\"catch\")\n",
    "            #                 left_is_put = True\n",
    "            #             elif info == \"Right Arm\":\n",
    "            #                 pool.remove_task(info, group=\"catch\")\n",
    "            #                 pool.add_task(catcher_right.catch_apple, mode=mode, info=\"Right Arm\", group=\"catch\")\n",
    "            #                 right_is_put = True\n",
    "            #         elif result is None:\n",
    "            #             if i == 0:\n",
    "            #                 if info == 'Right Arm':\n",
    "            #                     pool.add_task(catcher_right.aim_apple, is_show=False, mode=mode, info='Right Arm', group=\"catch\")\n",
    "            #                 elif info == 'Left Arm':\n",
    "            #                     pool.add_task(catcher_left.aim_apple, is_show=False, mode=mode, info='Left Arm', group=\"catch\")\n",
    "            #             else:\n",
    "            #                 if info == 'Right Arm':\n",
    "            #                     arm_right.reset()\n",
    "            #                 elif info == 'Left Arm':\n",
    "            #                     arm_left.reset()\n",
    "\n",
    "            if right_status and left_status:    # 正常情况 （两边对准完毕）\n",
    "                pool.add_task(catcher_left.catch_apple, info=\"Left Arm\", group=\"catch\")\n",
    "                pool.add_task(catcher_right.catch_apple, info=\"Right Arm\", group=\"catch\")\n",
    "\n",
    "                left_status = pool.wait(info=\"Left Arm\", group=\"catch\")\n",
    "                right_status = pool.wait(info=\"Right Arm\", group=\"catch\")\n",
    "                if left_status:  # 抓取成功\n",
    "                    # threading.Thread(target=catcher.arm.put_down, args=(), name=catcher.arm.local).start()\n",
    "                    # catcher.arm.put_down()\n",
    "                    left_is_put = True\n",
    "\n",
    "                if right_status:\n",
    "                    right_is_put = True\n",
    "\n",
    "            elif right_result:\n",
    "                pool.add_task(catcher_right.catch_apple, info=\"Right Arm\", group=\"catch\")\n",
    "                right_status = pool.wait(info=\"Right Arm\", group=\"catch\")\n",
    "                if right_status:\n",
    "                    right_is_put = True\n",
    "\n",
    "            elif left_status:\n",
    "                pool.add_task(catcher_left.catch_apple, info=\"Left Arm\", group=\"catch\")\n",
    "                left_status = pool.wait(info=\"Left Arm\", group=\"catch\")\n",
    "                if left_status:\n",
    "                    left_is_put = True\n",
    "\n",
    "            else:\n",
    "                pass\n",
    "\n",
    "        elif mode == \"left\":\n",
    "            pool.add_task(catcher_left.aim_apple, is_show=False, info='Left Arm', group=\"aim\")\n",
    "            left_status, left_result = pool.wait(info=\"Left Arm\", group=\"aim\")\n",
    "\n",
    "            if left_status:\n",
    "                pool.add_task(catcher_left.catch_apple, info=\"Left Arm\", group=\"catch\")\n",
    "                left_status = pool.wait(info=\"Left Arm\", group=\"catch\")\n",
    "                if left_status:\n",
    "                    left_is_put = True\n",
    "\n",
    "        elif mode == \"right\":\n",
    "            pool.add_task(catcher_right.aim_apple, is_show=False, info='Right Arm', group=\"aim\")\n",
    "            right_status, right_result = pool.wait(info=\"Right Arm\", group=\"aim\")\n",
    "            if right_status:\n",
    "                pool.add_task(catcher_right.catch_apple, info=\"Right Arm\", group=\"catch\")\n",
    "                right_status = pool.wait(info=\"Right Arm\", group=\"catch\")\n",
    "                if right_status:\n",
    "                    right_is_put = True\n",
    "\n",
    "        elif mode == \"left next\" or mode == \"right next\":\n",
    "            if mode == \"left next\":\n",
    "                pool.add_task(detect_and_aim_apple_threading, catcher_left, is_show=False, info='Left Arm', group=\"catch\")\n",
    "                left_status = pool.wait(info=\"Left Arm\", group=\"catch\")\n",
    "                time.sleep(0.5)\n",
    "                if left_status:\n",
    "                    left_is_put = True\n",
    "                elif left_status is None:\n",
    "                    pool.add_task(detect_and_aim_apple_threading, catcher_left, info=\"Left Arm\", group=\"catch\")\n",
    "                    left_status = pool.wait(info=\"Left Arm\", group=\"catch\")\n",
    "                    if left_status:\n",
    "                        left_is_put = True\n",
    "                if left_is_put:\n",
    "                    # count_num[\"apple\"] += 1\n",
    "                    pool.add_task(arm_left.put_down, info=\"down_left\", group=\"put_down\")\n",
    "                    left_is_put = False\n",
    "                pool.wait(info=\"down_left\", group=\"put_down\")\n",
    "                time.sleep(0.5)\n",
    "\n",
    "            else:\n",
    "                pool.add_task(catcher_right.aim_apple, is_show=False, info='Right Arm', group=\"aim\")\n",
    "                right_status, right_result = pool.wait(info=\"Right Arm\", group=\"aim\")\n",
    "                if right_status:\n",
    "                    pool.add_task(catcher_right.catch_apple, info=\"Right Arm\", group=\"catch\")\n",
    "                    right_status = pool.wait(info=\"Right Arm\", group=\"catch\")\n",
    "                    if right_status:\n",
    "                        right_is_put = True\n",
    "\n",
    "                time.sleep(0.5)\n",
    "                if right_is_put:\n",
    "                    # count_num[\"apple\"] += 1\n",
    "                    pool.add_task(arm_right.put_down, info=\"down_right\", group=\"put_down\")\n",
    "                    right_is_put = False\n",
    "\n",
    "                pool.wait(info=\"down_right\", group=\"put_down\")\n",
    "                time.sleep(0.5)\n",
    "\n",
    "            if side == \"right\":\n",
    "                arm_right.send_pwm(0, 2000, times=300)\n",
    "                time.sleep(0.2)\n",
    "                pool.add_task(arm_right.start_aim, mode=\"apple\", info=\"right_thread\", group=\"aim\")\n",
    "                pool.wait(\"right_thread\", group=\"aim\")\n",
    "\n",
    "                time.sleep(0.5)\n",
    "                pool.add_task(detect_and_aim_apple_threading, catcher_right, is_show=False, info='Right Arm', group=\"catch\")\n",
    "                right_status = pool.wait(info=\"Right Arm\", group=\"catch\")\n",
    "\n",
    "                if right_status:\n",
    "                    right_is_put = True\n",
    "                elif right_status is None:\n",
    "                    pool.add_task(detect_and_aim_apple_threading, catcher_right, info=\"Right Arm\", group=\"catch\")\n",
    "                    right_status = pool.wait(info=\"Right Arm\", group=\"catch\")\n",
    "                    if right_status:\n",
    "                        right_is_put = True\n",
    "\n",
    "            else:\n",
    "                arm_left.send_pwm(0, 700, times=300)\n",
    "                time.sleep(0.5)\n",
    "                pool.add_task(arm_left.start_aim, mode=\"apple\", info=\"left_thread\", group=\"aim\")\n",
    "                pool.wait(\"left_thread\", group=\"aim\")\n",
    "\n",
    "                time.sleep(0.5)\n",
    "                pool.add_task(catcher_left.aim_apple, is_show=False, info='Left Arm', group=\"catch\")\n",
    "                left_status, left_result = pool.wait(info=\"Left Arm\", group=\"catch\")\n",
    "\n",
    "                if left_status:  # 对齐成功\n",
    "                    pool.add_task(catcher_left.catch_apple, info=\"Left Arm\", group=\"catch\")\n",
    "                    left_status = pool.wait(info=\"Left Arm\", group=\"catch\")\n",
    "                    if left_status:\n",
    "                        left_is_put = True\n",
    "\n",
    "        # elif mode == \"right next\":\n",
    "        #\n",
    "        #     arm_left.send_pwm(0, 700, times=300)\n",
    "        #     time.sleep(0.5)\n",
    "        #     pool.add_task(arm_left.start_aim, mode=\"apple\", info=\"left_thread\", group=\"aim\")\n",
    "        #     pool.wait(\"left_thread\", group=\"aim\")\n",
    "        #\n",
    "        #     time.sleep(0.5)\n",
    "        #     pool.add_task(catcher_left.aim_apple, is_show=False, info='Left Arm', group=\"catch\")\n",
    "        #     left_status, left_result = pool.wait(info=\"Left Arm\", group=\"catch\")\n",
    "        #\n",
    "        #     if left_status:  # 对齐成功\n",
    "        #         pool.add_task(catcher_left.catch_apple, info=\"Left Arm\", group=\"catch\")\n",
    "        #         left_status = pool.wait(info=\"Left Arm\", group=\"catch\")\n",
    "        #         if left_status:\n",
    "        #             left_is_put = True\n",
    "\n",
    "        pool.wait(\"Right Arm\", group=\"catch\")\n",
    "        pool.wait(\"Left Arm\", group=\"catch\")\n",
    "\n",
    "        if right_is_put:\n",
    "            # count_num[\"apple\"] += 1\n",
    "            pool.add_task(arm_right.put_down, info=\"down_right\", group=\"put_down\")\n",
    "            right_is_put = False\n",
    "\n",
    "        if left_is_put:\n",
    "            # count_num[\"apple\"] += 1\n",
    "            pool.add_task(arm_left.put_down, info=\"down_left\", group=\"put_down\")\n",
    "            left_is_put = False\n",
    "\n",
    "        pool.wait(info=\"down_right\", group=\"put_down\")\n",
    "        pool.wait(info=\"down_left\", group=\"put_down\")\n",
    "\n",
    "        time.sleep(1)\n",
    "        arm_left.reset()\n",
    "        arm_right.reset()\n",
    "        time.sleep(2)\n",
    "\n",
    "        if mode == \"all\":\n",
    "            if side == \"left\":\n",
    "                arm_left.send_pwm(0, 700, times=300)\n",
    "                time.sleep(0.3)\n",
    "                pool.add_task(arm_left.start_aim, mode=\"apple\", info=\"left_thread\", group=\"aim\")\n",
    "                pool.wait(\"left_thread\", group=\"aim\")\n",
    "                pool.add_task(catcher_left.aim_apple, is_show=False, info='Left Arm', group=\"catch\")\n",
    "                left_status, left_result = pool.wait(info=\"Left Arm\", group=\"catch\")\n",
    "                if left_status:\n",
    "                    pool.add_task(catcher_left.catch_apple, info=\"Left Arm\", group=\"catch\")\n",
    "                    left_status = pool.wait(info=\"Left Arm\", group=\"catch\")\n",
    "                    if left_status:\n",
    "                        left_is_put = True\n",
    "\n",
    "                # elif left_status is False:\n",
    "                #     arm_right.send_pwm(0, 2000, times=300)\n",
    "                #     time.sleep(0.3)\n",
    "                #     pool.add_task(arm_right.start_aim, mode=\"apple\", info=\"right_thread\", group=\"aim\")\n",
    "                #     pool.wait(\"right_thread\", group=\"aim\")\n",
    "                #     pool.add_task(catcher_right.aim_apple, is_show=False, info='Right Arm', group=\"catch\")\n",
    "                #     right_status, right_result = pool.wait(info=\"Right Arm\", group=\"catch\")\n",
    "                #\n",
    "                #     if right_status:\n",
    "                #         pool.add_task(catcher_right.catch_apple, info=\"Right Arm\", group=\"catch\")\n",
    "                #         right_status = pool.wait(info=\"Right Arm\", group=\"catch\")\n",
    "                #         if right_status:\n",
    "                #             right_is_put = True\n",
    "                #\n",
    "                #     arm_right.reset_except_lower_and_claw(times=500)\n",
    "                #     time.sleep(1)\n",
    "                #     if right_is_put:\n",
    "                #         count_num[\"apple\"] += 1\n",
    "                #         pool.add_task(arm_right.put_down, info=\"down_right\", group=\"put_down\")\n",
    "                #         pool.wait(info=\"down_right\", group=\"put_down\")\n",
    "                #         time.sleep(1)\n",
    "\n",
    "                arm_left.reset_except_lower_and_claw(times=500)\n",
    "                time.sleep(1)\n",
    "                if left_is_put:\n",
    "                    # count_num[\"apple\"] += 1\n",
    "                    pool.add_task(arm_left.put_down, info=\"down_left\", group=\"put_down\")\n",
    "                    pool.wait(info=\"down_left\", group=\"put_down\")\n",
    "                    time.sleep(1)\n",
    "\n",
    "            elif side == \"right\":\n",
    "                arm_right.send_pwm(0, 2000, times=300)\n",
    "                time.sleep(0.3)\n",
    "                pool.add_task(arm_right.start_aim, mode=\"apple\", info=\"right_thread\", group=\"aim\")\n",
    "                pool.wait(\"right_thread\", group=\"aim\")\n",
    "                pool.add_task(catcher_right.aim_apple, is_show=False, info='Right Arm', group=\"catch\")\n",
    "                right_status, right_result = pool.wait(info=\"Right Arm\", group=\"catch\")\n",
    "\n",
    "                if right_status:\n",
    "                    pool.add_task(catcher_right.catch_apple, info=\"Right Arm\", group=\"catch\")\n",
    "                    right_status = pool.wait(info=\"Right Arm\", group=\"catch\")\n",
    "                    if right_status:\n",
    "                        right_is_put = True\n",
    "                # elif right_status is False:\n",
    "                #     arm_left.send_pwm(0, 700, times=300)\n",
    "                #     time.sleep(0.3)\n",
    "                #     pool.add_task(arm_left.start_aim, mode=\"apple\", info=\"left_thread\", group=\"aim\")\n",
    "                #     pool.wait(\"left_thread\", group=\"aim\")\n",
    "                #     pool.add_task(catcher_left.aim_apple, is_show=False, info='Left Arm', group=\"catch\")\n",
    "                #     left_status, left_result = pool.wait(info=\"Left Arm\", group=\"catch\")\n",
    "                #     if left_status:\n",
    "                #         pool.add_task(catcher_left.catch_apple, info=\"Left Arm\", group=\"catch\")\n",
    "                #         left_status = pool.wait(info=\"Left Arm\", group=\"catch\")\n",
    "                #         if left_status:\n",
    "                #             left_is_put = True\n",
    "                #     arm_left.reset_except_lower_and_claw(times=500)\n",
    "                #     time.sleep(1)\n",
    "                #     if left_is_put:\n",
    "                #         count_num[\"apple\"] += 1\n",
    "                #         pool.add_task(arm_left.put_down, info=\"down_left\", group=\"put_down\")\n",
    "                #         pool.wait(info=\"down_left\", group=\"put_down\")\n",
    "                #         time.sleep(1)\n",
    "\n",
    "                arm_right.reset_except_lower_and_claw(times=500)\n",
    "                time.sleep(1)\n",
    "\n",
    "                if right_is_put:\n",
    "                    # count_num[\"apple\"] += 1\n",
    "                    pool.add_task(arm_right.put_down, info=\"down_right\", group=\"put_down\")\n",
    "                    pool.wait(info=\"down_right\", group=\"put_down\")\n",
    "                    time.sleep(1)\n",
    "\n",
    "    arm_left.reset()\n",
    "    arm_right.reset()\n",
    "    time.sleep(0.5)\n",
    "    # 无论是否成功，都进行下一步\n",
    "    return True\n"
   ]
  },
  {
   "cell_type": "code",
   "execution_count": null,
   "metadata": {
    "collapsed": false
   },
   "outputs": [],
   "source": [
    "def pre_aim_action():\n",
    "    \"\"\"\n",
    "    在AB区确定抓取的是水果还是蔬菜\n",
    "    :return:\n",
    "    \"\"\"\n",
    "    pool.wait(\"down_right\", group=\"put_down\")\n",
    "    pool.wait(\"down_left\", group=\"put_down\")\n",
    "    # arm_right.reset()\n",
    "    # arm_left.reset()\n",
    "    # time.sleep(0.5)\n",
    "    pool.add_task(arm_right.pre_aim, times=800, action=0, info=\"right_thread\", group=\"aim\")\n",
    "    pool.add_task(arm_left.pre_aim, times=800, action=0,info=\"left_thread\", group=\"aim\")\n",
    "    pool.wait(\"right_thread\", group=\"aim\")\n",
    "    pool.wait(\"left_thread\", group=\"aim\")\n",
    "    time.sleep(1)\n",
    "    pool.add_task(catcher_right.camera.detect, mode=None, info=\"right_thread\", group=\"detect\")\n",
    "    pool.add_task(catcher_left.camera.detect, mode=None, info=\"left_thread\", group=\"detect\")\n",
    "\n",
    "    right_mode = None\n",
    "    left_mode = None\n",
    "\n",
    "    for future in as_completed(pool.tasks[\"detect\"].values()):\n",
    "        info = [key for key, value in pool.tasks[\"detect\"].items() if value == future][0]  # 得到当前完成线程的名字\n",
    "        result = future.result()  # 获得线程函数完成的返回值\n",
    "        print(result)\n",
    "        if info == \"left_thread\":\n",
    "            if result[0][\"color\"] == \"vegetable_red\":\n",
    "                left_mode = \"vegetable\"\n",
    "            elif result[0][\"color\"] == \"fruit_red\":\n",
    "                left_mode = \"fruit\"\n",
    "            elif result[0][\"color\"] == \"vegetable_green\" or result[0][\"color\"] == \"fruit_green\":\n",
    "                right_mode = \"green\"\n",
    "            else:\n",
    "                left_mode = None\n",
    "        elif info == \"right_thread\":\n",
    "            if result[0][\"color\"] == \"vegetable_red\":\n",
    "                right_mode = \"vegetable\"\n",
    "            elif result[0][\"color\"] == \"fruit_red\":\n",
    "                right_mode = \"fruit\"\n",
    "            elif result[0][\"color\"] == \"vegetable_green\" or result[0][\"color\"] == \"fruit_green\":\n",
    "                right_mode = \"green\"\n",
    "            else:\n",
    "                right_mode = None\n",
    "\n",
    "    if left_mode is None:\n",
    "        pool.add_task(arm_left.pre_aim, times=800, action=1, info=\"left_thread\", group=\"aim\")\n",
    "        pool.wait(\"left_thread\", group=\"aim\")\n",
    "        time.sleep(1)\n",
    "        pool.add_task(catcher_left.camera.detect, mode=None, info=\"left_thread\", group=\"detect\")\n",
    "    if right_mode is None:\n",
    "        pool.add_task(arm_right.pre_aim, times=800, action=1, info=\"right_thread\", group=\"aim\")\n",
    "        pool.wait(\"right_thread\", group=\"aim\")\n",
    "        time.sleep(1)\n",
    "        pool.add_task(catcher_right.camera.detect, mode=None, info=\"right_thread\", group=\"detect\")\n",
    "\n",
    "    for future in as_completed(pool.tasks[\"detect\"].values()):\n",
    "        info = [key for key, value in pool.tasks[\"detect\"].items() if value == future][0]  # 得到当前完成线程的名字\n",
    "        result = future.result()  # 获得线程函数完成的返回值\n",
    "        print(result)\n",
    "        if info == \"left_thread\":\n",
    "            if result[0][\"color\"] == \"vegetable_red\":\n",
    "                left_mode = \"vegetable\"\n",
    "            elif result[0][\"color\"] == \"fruit_red\":\n",
    "                left_mode = \"fruit\"\n",
    "            else:\n",
    "                left_mode = None\n",
    "        elif info == \"right_thread\":\n",
    "            if result[0][\"color\"] == \"vegetable_red\":\n",
    "                right_mode = \"vegetable\"\n",
    "            elif result[0][\"color\"] == \"fruit_red\":\n",
    "                right_mode = \"fruit\"\n",
    "            else:\n",
    "                right_mode = None\n",
    "\n",
    "    return True, left_mode, right_mode\n",
    "\n",
    "\n",
    "def aim_and_catch_action(left_mode, right_mode, is_move=True):\n",
    "    \"\"\"\n",
    "    AB区瞄准水果动作\n",
    "    :param left_mode:\n",
    "    :return:\n",
    "    \"\"\"\n",
    "    # left_mode, right_mode = pre_aim_action()\n",
    "\n",
    "    if left_mode == \"vegetable\":\n",
    "        pool.add_task(arm_left.start_aim, mode=left_mode, info=\"left_thread\", group=\"aim\")\n",
    "        pool.add_task(arm_right.start_aim, mode=right_mode, info=\"right_thread\", group=\"aim\")\n",
    "        pool.wait(\"right_thread\", group=\"aim\")\n",
    "        pool.wait(\"left_thread\", group=\"aim\")\n",
    "        time.sleep(0.2)\n",
    "        result = catch_all_action(left_mode=left_mode, right_mode=right_mode, is_move=is_move)\n",
    "        return result\n",
    "\n",
    "    elif left_mode == \"fruit\":\n",
    "        if right_mode != \"fruit\":  # 一边水果一边蔬菜\n",
    "            pool.add_task(arm_left.start_aim, mode=left_mode, info=\"left_thread\", group=\"aim\")\n",
    "            pool.add_task(arm_right.start_aim, mode=right_mode, info=\"right_thread\", group=\"aim\")\n",
    "            pool.wait(\"right_thread\", group=\"aim\")\n",
    "            pool.wait(\"left_thread\", group=\"aim\")\n",
    "            time.sleep(0.2)\n",
    "            result = catch_all_action(left_mode=left_mode, right_mode=right_mode, is_move=is_move)\n",
    "            return result\n",
    "        else:  # 两边都是水果，需要一边抓完再抓另一边\n",
    "            left_mode = \"fruit\"\n",
    "            right_mode = \"fruit\"\n",
    "            arm_right.reset()\n",
    "            pool.add_task(arm_left.start_aim, mode=left_mode, info=\"left_thread\", group=\"aim\")\n",
    "            pool.wait(info=\"left_thread\", group=\"aim\")\n",
    "            time.sleep(0.2)\n",
    "            catch_all_action(left_mode=left_mode, right_mode=None)\n",
    "\n",
    "            pool.add_task(arm_right.start_aim, mode=right_mode, info=\"right_thread\", group=\"aim\")\n",
    "            pool.wait(info=\"right_thread\", group=\"aim\")\n",
    "            time.sleep(0.2)\n",
    "            catch_all_action(left_mode=None, right_mode=right_mode, is_move=is_move)\n",
    "    else:\n",
    "        arm_left.reset()\n",
    "        arm_right.reset()\n",
    "    time.sleep(0.2)\n",
    "\n",
    "    # pool.add_task(arm_right.start_aim, mode=right_mode, info=\"right_thread\", group=\"aim\")\n",
    "    # time.sleep(0.2)\n",
    "    # pool.add_task(arm_left.start_aim, mode=left_mode, info=\"left_thread\", group=\"aim\")\n",
    "    #\n",
    "    # pool.wait(\"right_thread\", group=\"aim\")\n",
    "    # pool.wait(\"left_thread\", group=\"aim\")\n",
    "    return True\n",
    "\n",
    "\n",
    "def catch_all_action(left_mode, right_mode, is_move=True):\n",
    "    # if left_mode == \"fruit\":\n",
    "    #     right_mode = \"vegetable\"\n",
    "    # else:\n",
    "    #     left_mode = \"vegetable\"\n",
    "    #     right_mode = \"fruit\"\n",
    "\n",
    "    right_is_put = False\n",
    "    left_is_put = False\n",
    "\n",
    "    if left_mode is not None and right_mode is not None:\n",
    "\n",
    "        right_x_dis = None\n",
    "        left_x_dis = None\n",
    "        pool.add_task(catcher_left.detect_x_dis, is_show=False, info=\"left_thread\", group=\"detect\")\n",
    "        pool.add_task(catcher_right.detect_x_dis, is_show=False, info=\"right_thread\", group=\"detect\")\n",
    "        for future in as_completed(pool.tasks[\"detect\"].values()):\n",
    "            info = [key for key, value in pool.tasks[\"detect\"].items() if value == future][0]  # 得到当前完成线程的名字\n",
    "            result = future.result()  # 获得线程函数完成的返回值\n",
    "            if info == \"left_thread\":\n",
    "                left_x_dis = result\n",
    "            else:\n",
    "                right_x_dis = result\n",
    "\n",
    "        if right_x_dis is not None:\n",
    "            if left_x_dis is not None:\n",
    "                move = (left_x_dis - right_x_dis) / 2\n",
    "            else:\n",
    "                move = right_x_dis\n",
    "        else:\n",
    "            if left_x_dis is not None:\n",
    "                move = left_x_dis\n",
    "            else:\n",
    "                move = None\n",
    "\n",
    "        if move is not None:\n",
    "            print(\"即将移动的距离：\", move)\n",
    "            if abs(move) > 20:\n",
    "                move = move / 1000\n",
    "                if is_move:\n",
    "                    car.go_distance(move)\n",
    "\n",
    "        pool.add_task(detect_and_aim_threading, catcher_right, mode=right_mode, is_show=False, info='Right Arm', group=\"catch\")\n",
    "        pool.add_task(detect_and_aim_threading, catcher_left, mode=left_mode, is_show=False, info='Left Arm', group=\"catch\")\n",
    "\n",
    "    elif left_mode is not None:\n",
    "        pool.add_task(detect_and_aim_threading, catcher_left, mode=left_mode, is_show=False, info='Left Arm',\n",
    "                      group=\"catch\")\n",
    "    elif right_mode is not None:\n",
    "        pool.add_task(detect_and_aim_threading, catcher_right, mode=right_mode, is_show=False, info='Right Arm',\n",
    "                      group=\"catch\")\n",
    "    else:\n",
    "        arm_left.reset()\n",
    "        arm_right.reset()\n",
    "\n",
    "    for i in range(2):\n",
    "        for future in as_completed(pool.tasks[\"catch\"].values()):\n",
    "            info = [key for key, value in pool.tasks[\"catch\"].items() if value == future][0]    # 得到当前完成线程的名字\n",
    "            result = future.result()    # 获得线程函数完成的返回值\n",
    "            if result:\n",
    "                if info == 'Right Arm':\n",
    "                    pool.remove_task(info, group=\"catch\")\n",
    "                    arm_right.reset_except_claw()\n",
    "                    right_is_put = True\n",
    "                elif info == 'Left Arm':\n",
    "                    pool.remove_task(info, group=\"catch\")\n",
    "                    arm_left.reset_except_claw()\n",
    "                    left_is_put = True\n",
    "                time.sleep(1.5)\n",
    "            elif result is None:\n",
    "                if i == 0:\n",
    "                    if info == 'Right Arm':\n",
    "                        pool.add_task(detect_and_aim_threading, catcher_right, mode=right_mode, is_show=False, info='Right Arm', group=\"catch\")\n",
    "                    elif info == 'Left Arm':\n",
    "                        pool.add_task(detect_and_aim_threading, catcher_left, mode=left_mode, is_show=False, info='Left Arm', group=\"catch\")\n",
    "                else:\n",
    "                    if info == 'Right Arm':\n",
    "                        arm_right.reset()\n",
    "                    elif info == 'Left Arm':\n",
    "                        arm_left.reset()\n",
    "\n",
    "    pool.wait(\"Right Arm\", group=\"catch\")\n",
    "    pool.wait(\"Left Arm\", group=\"catch\")\n",
    "    if right_is_put:\n",
    "        # count_num[right_mode] += 1\n",
    "        pool.add_task(arm_right.put_down, info=\"down_right\", group=\"put_down\")\n",
    "\n",
    "    if left_is_put:\n",
    "        # count_num[left_mode] += 1\n",
    "        pool.add_task(arm_left.put_down, info=\"down_left\", group=\"put_down\")\n",
    "\n",
    "    # 无论是否成功，都进行下一步\n",
    "    return True\n"
   ]
  },
  {
   "cell_type": "code",
   "execution_count": null,
   "metadata": {
    "collapsed": false
   },
   "outputs": [],
   "source": [
    "aim_and_catch_action(\"fruit\", \"vegetable\", False)"
   ]
  },
  {
   "cell_type": "code",
   "execution_count": null,
   "metadata": {
    "collapsed": false
   },
   "outputs": [],
   "source": [
    "arm_left.send_pwm(1, 1700)"
   ]
  },
  {
   "cell_type": "code",
   "execution_count": null,
   "metadata": {
    "collapsed": false
   },
   "outputs": [],
   "source": [
    "arm_right.close()\n",
    "arm_left.close()"
   ]
  },
  {
   "cell_type": "code",
   "execution_count": null,
   "metadata": {
    "collapsed": false
   },
   "outputs": [],
   "source": [
    "arm_right.send_ordinate(-190, -10, 340, -5, times=800, is_close_control=False)"
   ]
  },
  {
   "cell_type": "code",
   "execution_count": null,
   "metadata": {
    "collapsed": false
   },
   "outputs": [],
   "source": [
    "arm_right.send_pwm(5, 1650)"
   ]
  },
  {
   "cell_type": "code",
   "execution_count": null,
   "metadata": {
    "collapsed": false
   },
   "outputs": [],
   "source": [
    "prepare_aim(3, \"no next\")"
   ]
  },
  {
   "cell_type": "code",
   "execution_count": null,
   "metadata": {
    "collapsed": false
   },
   "outputs": [],
   "source": [
    "car.close()"
   ]
  },
  {
   "cell_type": "code",
   "execution_count": null,
   "metadata": {
    "collapsed": false
   },
   "outputs": [],
   "source": [
    "arm_right.start_aim(mode=\"apple\")"
   ]
  },
  {
   "cell_type": "code",
   "execution_count": null,
   "metadata": {
    "collapsed": false
   },
   "outputs": [],
   "source": [
    "result = catcher_right.detect_apple(is_show=True, is_reverse=True)"
   ]
  },
  {
   "cell_type": "code",
   "execution_count": null,
   "metadata": {
    "collapsed": false
   },
   "outputs": [],
   "source": [
    "arm_right.reset()\n",
    "arm_left.reset()"
   ]
  },
  {
   "cell_type": "code",
   "execution_count": null,
   "metadata": {
    "collapsed": false
   },
   "outputs": [],
   "source": [
    "arm_left.put_down()\n",
    "arm_right.put_down()"
   ]
  },
  {
   "cell_type": "code",
   "execution_count": null,
   "metadata": {
    "collapsed": false
   },
   "outputs": [],
   "source": [
    "arm_left.reset()\n",
    "arm_right.reset()"
   ]
  },
  {
   "cell_type": "code",
   "execution_count": null,
   "metadata": {
    "collapsed": false
   },
   "outputs": [],
   "source": [
    "def detect_cross_and_run_A_to_B(count=0, bias=0.01, is_show=False):\n",
    "    # camera_right.change_auto_exposure(False)\n",
    "    # time.sleep(1)\n",
    "    # os.system(\"v4l2-ctl --device=/dev/video_right --set-ctrl=exposure_time_absolute=100\")  # 减低曝光\n",
    "    # time.sleep(1)\n",
    "    status, x_move, y_move = detect_cross(mode=\"right\", is_show=is_show)\n",
    "    right_arm_to_mid_dis = 90\n",
    "    arm_to_car_mid_dis = 100\n",
    "    rotate_x_bias = 80\n",
    "    if status:\n",
    "        x, y, z, angle = arm_right.get_ordinate()\n",
    "        x_dis = x_move + x + arm_to_car_mid_dis + rotate_x_bias\n",
    "        y_dis = y_move - right_arm_to_mid_dis\n",
    "        final_x = x_dis / 1000\n",
    "        final_y = -y_dis / 1000\n",
    "        print(f\"final_x: {final_x}, final_y: {final_y}\")\n",
    "        arm_right.reset()\n",
    "        # os.system(\"v4l2-ctl --device=/dev/video_right --set-ctrl=exposure_time_absolute=200\")\n",
    "        # camera_right.change_auto_exposure(False)\n",
    "        car.go_distance(final_x+bias)\n",
    "        time.sleep(0.2)\n",
    "        car.yaw_adjustment(90)\n",
    "        time.sleep(0.2)\n",
    "        car.go_distance(final_y)\n",
    "        return True\n",
    "    else:\n",
    "        if count > 4:\n",
    "            # os.system(\"v4l2-ctl --device=/dev/video_right --set-ctrl=exposure_time_absolute=200\")\n",
    "            arm_right.reset()\n",
    "            # camera_right.change_auto_exposure(False)\n",
    "            car.yaw_adjustment(90)\n",
    "            time.sleep(1)\n",
    "            car.go_distance(0.1)\n",
    "            print(\"未检测到交叉点\")\n",
    "            return True\n",
    "        time.sleep(1)\n",
    "        car.go_distance(0.2)\n",
    "        result = detect_cross_and_run_A_to_B(count + 1)\n",
    "        return result"
   ]
  },
  {
   "cell_type": "code",
   "execution_count": null,
   "metadata": {
    "collapsed": false
   },
   "outputs": [],
   "source": []
  },
  {
   "cell_type": "code",
   "execution_count": null,
   "metadata": {
    "collapsed": false
   },
   "outputs": [],
   "source": [
    "detect_cross_and_run_A_to_B(is_show=True)"
   ]
  },
  {
   "cell_type": "code",
   "execution_count": null,
   "metadata": {
    "collapsed": false
   },
   "outputs": [],
   "source": []
  },
  {
   "cell_type": "code",
   "execution_count": null,
   "metadata": {
    "collapsed": false
   },
   "outputs": [],
   "source": [
    "_, apple_num, status = pre_detect_apple(catcher_left.camera, is_show=True)\n",
    "print(apple_num, status)\n",
    "\n",
    "# right_status = pool.add_task(catcher_right.catch_apple, info=\"Right Arm\", group=\"catch\")"
   ]
  },
  {
   "cell_type": "code",
   "execution_count": null,
   "metadata": {
    "collapsed": false
   },
   "outputs": [],
   "source": [
    "apple_num =1\n",
    "status = \"left\"\n",
    "print(apple_num, status)"
   ]
  },
  {
   "cell_type": "code",
   "execution_count": null,
   "metadata": {
    "collapsed": false
   },
   "outputs": [],
   "source": [
    "car.go_distance(0.1)"
   ]
  },
  {
   "cell_type": "code",
   "execution_count": null,
   "metadata": {
    "collapsed": false
   },
   "outputs": [],
   "source": [
    "arm_right.reset()\n",
    "arm_left.reset()"
   ]
  },
  {
   "cell_type": "code",
   "execution_count": null,
   "metadata": {
    "collapsed": false
   },
   "outputs": [],
   "source": [
    "arm_left.start_aim(mode=\"apple\")"
   ]
  },
  {
   "cell_type": "code",
   "execution_count": null,
   "metadata": {
    "collapsed": false
   },
   "outputs": [],
   "source": [
    "car.sideway(0.25,-0.2)"
   ]
  },
  {
   "cell_type": "code",
   "execution_count": null,
   "metadata": {
    "collapsed": false
   },
   "outputs": [],
   "source": [
    "car.yaw_adjustment(0)"
   ]
  },
  {
   "cell_type": "code",
   "execution_count": null,
   "metadata": {
    "collapsed": false
   },
   "outputs": [],
   "source": [
    "camera_left.model_detect(conf=0.9, limit_area=10000, is_show=True)"
   ]
  },
  {
   "cell_type": "code",
   "execution_count": null,
   "metadata": {
    "collapsed": false
   },
   "outputs": [],
   "source": [
    "prepare_aim(apple_num, status)"
   ]
  },
  {
   "cell_type": "code",
   "execution_count": null,
   "metadata": {
    "collapsed": false
   },
   "outputs": [],
   "source": [
    "catch_apple_all_action(apple_num, status)"
   ]
  },
  {
   "cell_type": "code",
   "execution_count": null,
   "metadata": {
    "collapsed": false
   },
   "outputs": [],
   "source": [
    "arm_left.reset()"
   ]
  },
  {
   "cell_type": "code",
   "execution_count": null,
   "metadata": {
    "collapsed": false
   },
   "outputs": [],
   "source": [
    "camera_left.detect(conf=0.8)"
   ]
  },
  {
   "cell_type": "code",
   "execution_count": null,
   "metadata": {
    "collapsed": false
   },
   "outputs": [],
   "source": [
    "camera_left.model_detect(conf=0.8)"
   ]
  },
  {
   "cell_type": "code",
   "execution_count": null,
   "metadata": {
    "collapsed": false
   },
   "outputs": [],
   "source": [
    "\n",
    "catcher_left.aim_apple(is_show=True)"
   ]
  },
  {
   "cell_type": "code",
   "execution_count": null,
   "metadata": {
    "collapsed": false
   },
   "outputs": [],
   "source": [
    "catcher_right.catch_apple(is_show=False)\n"
   ]
  },
  {
   "cell_type": "code",
   "execution_count": null,
   "metadata": {
    "collapsed": false
   },
   "outputs": [],
   "source": [
    "arm_left.reset()"
   ]
  },
  {
   "cell_type": "code",
   "execution_count": null,
   "metadata": {
    "collapsed": false
   },
   "outputs": [],
   "source": [
    "catch_apple_all_action(red_apple_num=apple_num, mode=status)"
   ]
  },
  {
   "cell_type": "code",
   "execution_count": null,
   "metadata": {
    "collapsed": false
   },
   "outputs": [],
   "source": [
    "left_mode, right_mode = pre_aim_action()\n",
    "aim_and_catch_action(left_mode, right_mode)"
   ]
  },
  {
   "cell_type": "code",
   "execution_count": null,
   "metadata": {
    "collapsed": false
   },
   "outputs": [],
   "source": [
    "camera_right.detect(mode=None, is_show=True)"
   ]
  },
  {
   "cell_type": "code",
   "execution_count": null,
   "metadata": {
    "collapsed": false
   },
   "outputs": [],
   "source": [
    "arm_right.pre_aim()"
   ]
  },
  {
   "cell_type": "code",
   "execution_count": null,
   "metadata": {
    "collapsed": false
   },
   "outputs": [],
   "source": [
    "car.go_distance(0.05)"
   ]
  },
  {
   "cell_type": "code",
   "execution_count": null,
   "metadata": {
    "collapsed": false
   },
   "outputs": [],
   "source": [
    "arm_left.start_aim(mode=\"fruit\")"
   ]
  },
  {
   "cell_type": "code",
   "execution_count": null,
   "metadata": {
    "collapsed": false
   },
   "outputs": [],
   "source": [
    "detect_and_aim_threading(catcher_left, mode=\"fruit\", is_show=True)"
   ]
  },
  {
   "cell_type": "code",
   "execution_count": null,
   "metadata": {
    "collapsed": false
   },
   "outputs": [],
   "source": [
    "print(arm_left.pre_aim_action)\n",
    "arm_right.pre_aim_action"
   ]
  },
  {
   "cell_type": "code",
   "execution_count": null,
   "metadata": {
    "collapsed": false
   },
   "outputs": [],
   "source": [
    "prepare_aim(2, \"next\")"
   ]
  },
  {
   "cell_type": "code",
   "execution_count": null,
   "metadata": {
    "collapsed": false
   },
   "outputs": [],
   "source": [
    "arm_right.send_ordinate(0, 195, 280, -61)"
   ]
  },
  {
   "cell_type": "code",
   "execution_count": null,
   "metadata": {
    "collapsed": false
   },
   "outputs": [],
   "source": [
    "camera_left.detect(mode=None, is_show=True)"
   ]
  },
  {
   "cell_type": "markdown",
   "metadata": {
    "collapsed": false
   },
   "source": []
  },
  {
   "cell_type": "code",
   "execution_count": null,
   "metadata": {
    "collapsed": false
   },
   "outputs": [],
   "source": [
    "camera_right.detect(mode=None, is_show=True)"
   ]
  },
  {
   "cell_type": "code",
   "execution_count": null,
   "metadata": {
    "collapsed": false
   },
   "outputs": [],
   "source": [
    "arm_left.reset_except_lower_and_claw()"
   ]
  },
  {
   "cell_type": "code",
   "execution_count": null,
   "metadata": {
    "collapsed": false
   },
   "outputs": [],
   "source": [
    "arm_right.send_pwm(0, 2000)"
   ]
  },
  {
   "cell_type": "code",
   "execution_count": null,
   "metadata": {
    "collapsed": false
   },
   "outputs": [],
   "source": [
    "arm_right.reset()\n",
    "arm_left.reset()"
   ]
  },
  {
   "cell_type": "code",
   "execution_count": null,
   "metadata": {
    "collapsed": false
   },
   "outputs": [],
   "source": [
    "arm_left.close()\n",
    "arm_right.close()\n",
    "car.close()"
   ]
  },
  {
   "cell_type": "code",
   "execution_count": null,
   "metadata": {
    "collapsed": false
   },
   "outputs": [],
   "source": [
    "arm_left.send_pwm(5,1700)"
   ]
  },
  {
   "cell_type": "code",
   "execution_count": null,
   "metadata": {
    "collapsed": false
   },
   "outputs": [],
   "source": [
    "arm_left.send_ordinate(170, 10, 430, 18, mode=0, times=1500)"
   ]
  },
  {
   "cell_type": "code",
   "execution_count": null,
   "metadata": {
    "collapsed": false
   },
   "outputs": [],
   "source": [
    "arm_right.send_ordinate(190, 20, 340, -7, mode=0, times=1500)"
   ]
  },
  {
   "cell_type": "markdown",
   "metadata": {
    "collapsed": false
   },
   "source": []
  },
  {
   "cell_type": "code",
   "execution_count": null,
   "metadata": {
    "collapsed": false
   },
   "outputs": [],
   "source": [
    "arm_left.rotate(20, is_print=True, mode=\"pwm\")\n"
   ]
  },
  {
   "cell_type": "code",
   "execution_count": null,
   "metadata": {
    "collapsed": false
   },
   "outputs": [],
   "source": [
    "arm_left.get_ordinate()\n",
    "arm_left.rotate(30)\n",
    "time.sleep(1.5)\n",
    "arm_left.get_ordinate()"
   ]
  },
  {
   "cell_type": "code",
   "execution_count": null,
   "metadata": {
    "collapsed": false
   },
   "outputs": [],
   "source": [
    "arm_right.rotate(10)\n"
   ]
  },
  {
   "cell_type": "code",
   "execution_count": null,
   "metadata": {
    "collapsed": false
   },
   "outputs": [],
   "source": [
    "arm_right.get_ordinate()"
   ]
  },
  {
   "cell_type": "code",
   "execution_count": null,
   "metadata": {
    "collapsed": false
   },
   "outputs": [],
   "source": [
    "X, Y ,Z, angle = arm_right.get_ordinate()\n",
    "xy_angle = math.atan2(Y, X)\n",
    "arm_long = math.sqrt(X ** 2 + Y ** 2)\n",
    "need_rotate_angle = -10 * math.pi / 180\n",
    "now_angle = xy_angle + need_rotate_angle\n",
    "add_x = arm_long * math.cos(now_angle)\n",
    "add_y = arm_long * math.sin(now_angle)\n",
    "print(f\"xy_angle: {xy_angle * 180 / math.pi}, now_angle: {now_angle * 180 / math.pi}, add_x: {add_x}, add_y: {add_y}\")\n",
    "# arm_right.send_ordinate(add_x, add_y, Z, angle, times=300, mode=0)"
   ]
  },
  {
   "cell_type": "code",
   "execution_count": null,
   "metadata": {
    "collapsed": false
   },
   "outputs": [],
   "source": [
    "arm_right.send_ordinate(0, 140, 330, -62, mode=0, times=1500)\n"
   ]
  },
  {
   "cell_type": "code",
   "execution_count": null,
   "metadata": {
    "collapsed": false
   },
   "outputs": [],
   "source": [
    "arm_left.send_ordinate(0, 200, 360, -25, mode=0, times=1500)"
   ]
  },
  {
   "cell_type": "code",
   "execution_count": null,
   "metadata": {
    "collapsed": false
   },
   "outputs": [],
   "source": [
    "arm_right.reset()\n",
    "arm_left.reset()"
   ]
  },
  {
   "cell_type": "code",
   "execution_count": null,
   "metadata": {
    "collapsed": false
   },
   "outputs": [],
   "source": [
    "camera_right.detect(mode=None, is_show=True)"
   ]
  },
  {
   "cell_type": "code",
   "execution_count": null,
   "metadata": {
    "collapsed": false
   },
   "outputs": [],
   "source": [
    "catch_all_action(left_mode=\"vegetable\")"
   ]
  },
  {
   "cell_type": "code",
   "execution_count": null,
   "metadata": {
    "collapsed": false
   },
   "outputs": [],
   "source": [
    "arm_right.start_aim()"
   ]
  },
  {
   "cell_type": "code",
   "execution_count": null,
   "metadata": {
    "collapsed": false
   },
   "outputs": [],
   "source": [
    "catcher_right.catch_test()"
   ]
  },
  {
   "cell_type": "code",
   "execution_count": null,
   "metadata": {
    "collapsed": false
   },
   "outputs": [],
   "source": [
    "car.go_distance(-0.03)"
   ]
  },
  {
   "cell_type": "code",
   "execution_count": null,
   "metadata": {
    "collapsed": false
   },
   "outputs": [],
   "source": [
    "class Media_Player:\n",
    "    def __init__(self):\n",
    "        self.Step = 0\n",
    "        self.path = \"/home/dianfei/catch_robot_v2/media/\"\n",
    "        self.media_dict = {\"start\": \"start1.mp3\", \"small_car_end\": \"small_end.mp3\", \"big_car_end\": \"big_end.mp3\"}\n",
    "\n",
    "    def play(self, media):\n",
    "        playsound(self.path + self.media_dict[media],  block=False)\n",
    "        return True\n",
    "\n",
    "    def play_(self, video):\n",
    "        os.system(\"play \" + self.path + video)\n",
    "\n",
    "\n",
    "media_player = Media_Player()"
   ]
  },
  {
   "cell_type": "code",
   "execution_count": null,
   "metadata": {
    "collapsed": false
   },
   "outputs": [],
   "source": [
    "def detect_cross_A_to_B(bias=2):\n",
    "    point_list = []\n",
    "    for i in range(3):\n",
    "        frame, point = cross_detect.get_cross_point(camera_right.get_frame(), is_show=False)\n",
    "        if point is not None:\n",
    "            point_list.append(point)\n",
    "\n",
    "    if len(point_list) > 0:\n",
    "        point = np.mean(point_list, axis=0)\n",
    "        _, _, Z, _ = catcher_right.arm.get_ordinate()\n",
    "        camera_height = Z + height + camera_to_claw  # 摄像头离地高度\n",
    "\n",
    "        x_dis = 640 / 2 - point[0]\n",
    "        y_dis = 480 / 2 - point[1]\n",
    "        xy_dis = math.sqrt((x_dis * px) ** 2 + (y_dis * px) ** 2)\n",
    "        cos = x_dis * px / xy_dis\n",
    "        sin = y_dis * px / xy_dis\n",
    "        dis = xy_dis * camera_height / f\n",
    "        x_move = dis * sin * 2.5\n",
    "        y_move = dis * cos * 2.5\n",
    "        print(f\"x_move: {x_move}, y_move: {y_move}\")\n",
    "\n",
    "        return True, x_move, y_move\n",
    "\n",
    "    else:\n",
    "        return False, None, None\n",
    "\n",
    "def detect_cross_and_run(count=0):\n",
    "    status, x_move, y_move = detect_cross()\n",
    "    right_arm_to_mid_dis = 90\n",
    "    arm_to_car_mid_dis = 100\n",
    "    if status:\n",
    "        x, y, z, angle = arm_right.get_ordinate()\n",
    "        x_dis = x_move + x + arm_to_car_mid_dis\n",
    "        y_dis = y_move - right_arm_to_mid_dis\n",
    "        final_x = x_dis / 1000\n",
    "        final_y = -y_dis / 1000\n",
    "        print(f\"final_x: {final_x}, final_y: {final_y}\")\n",
    "\n",
    "        car.go_distance(final_x)\n",
    "        time.sleep(0.2)\n",
    "        car.yaw_adjustment(90)\n",
    "        time.sleep(0.2)\n",
    "        car.go_distance(final_y)\n",
    "        return True\n",
    "    else:\n",
    "        if count > 2:\n",
    "            return True\n",
    "        car.go_distance(0.1)\n",
    "        result = detect_cross_and_run(count + 1)\n",
    "        return result\n",
    "\n"
   ]
  },
  {
   "cell_type": "code",
   "execution_count": null,
   "metadata": {
    "collapsed": false
   },
   "outputs": [],
   "source": [
    "#arm_left.reset()\n",
    "arm_right.reset()"
   ]
  },
  {
   "cell_type": "code",
   "execution_count": null,
   "metadata": {
    "collapsed": false
   },
   "outputs": [],
   "source": [
    "arm_left.send_pwm(1, 1600)"
   ]
  },
  {
   "cell_type": "code",
   "execution_count": null,
   "metadata": {
    "collapsed": false
   },
   "outputs": [],
   "source": [
    "arm_right.close()\n",
    "arm_left.close()"
   ]
  },
  {
   "cell_type": "code",
   "execution_count": null,
   "metadata": {
    "collapsed": false
   },
   "outputs": [],
   "source": [
    "car.yaw_adjustment(-90, is_print=True)"
   ]
  },
  {
   "cell_type": "code",
   "execution_count": null,
   "metadata": {
    "collapsed": false
   },
   "outputs": [],
   "source": [
    "car.go_distance(0.25)"
   ]
  },
  {
   "cell_type": "code",
   "execution_count": null,
   "metadata": {
    "collapsed": false
   },
   "outputs": [],
   "source": [
    "car.go_sideway(20, 0.1)"
   ]
  },
  {
   "cell_type": "code",
   "execution_count": null,
   "metadata": {
    "collapsed": false
   },
   "outputs": [],
   "source": [
    "procedure = Procedure()\n",
    "action = Procedure_Action(procedure)\n",
    "Action = action.Action\n",
    "task = {\n",
    "        \"前进0.18米\": Action(car.go_distance, 0.2),\n",
    "        \"旋转-90度\": Action(car.yaw_adjustment, -90),\n",
    "        # \"播报开始语音\": Action(media_player.play, \"start\"),\n",
    "        \"前进0.57米\": Action(car.go_distance, 0.54),\n",
    "        \"A区第一组\": {\n",
    "            \"瞄准动作\": Action(pre_aim_action),\n",
    "            \"抓取\": Action(aim_and_catch_action, is_get_result=True),\n",
    "        },\n",
    "\n",
    "        \"A区第二组\": {\n",
    "            \"前进0.97米\": Action(car.go_distance, 0.95),\n",
    "            \"瞄准动作\": Action(pre_aim_action),\n",
    "            \"抓取\": Action(aim_and_catch_action, is_get_result=True),\n",
    "        },\n",
    "\n",
    "        \"A区第三组\": {\n",
    "            \"前进1米\": Action(car.go_distance, 1),\n",
    "            \"瞄准动作\": Action(pre_aim_action),\n",
    "            \"抓取\": Action(aim_and_catch_action, is_get_result=True),\n",
    "        },\n",
    "        \"A区到B区\": {\n",
    "            \"前进0.6米\": Action(car.go_distance, 0.6, sleep_time=0.2),\n",
    "            \"转向0\": Action(car.yaw_adjustment, 0, sleep_time=0.2),\n",
    "            \"前进0.58米\": Action(car.go_distance, 0.58, sleep_time=0.15),\n",
    "            \"十字标对准动作\": Action(arm_right.send_ordinate, x=280, y=45, z=240, angle=-100, mode=0, times=700, sleep_time=1),\n",
    "            \"十字标对正\": Action(detect_cross_and_run, sleep_time=0.2),\n",
    "            \"前进0.31\": Action(car.go_distance, 0.31, sleep_time=0.2),\n",
    "        },\n",
    "\n",
    "        \"B区第一组\": {\n",
    "            \"瞄准动作\": Action(pre_aim_action),\n",
    "            \"抓取\": Action(aim_and_catch_action, is_get_result=True),\n",
    "        },\n",
    "\n",
    "        \"B区第二组\": {\n",
    "            \"前进0.98米\": Action(car.go_distance, 1),\n",
    "            \"瞄准动作\": Action(pre_aim_action),\n",
    "            \"抓取\": Action(aim_and_catch_action, is_get_result=True),\n",
    "        },\n",
    "\n",
    "        \"B区第三组\": {\n",
    "            \"前进1米\": Action(car.go_distance, 1),\n",
    "            \"瞄准动作\": Action(pre_aim_action),\n",
    "            \"抓取\": Action(aim_and_catch_action, is_get_result=True),\n",
    "        },\n",
    "        \"B区到C区\": {\n",
    "            \"前进0.6米\": Action(car.go_distance, 0.7, sleep_time=0.15),\n",
    "            \"转向0\": Action(car.yaw_adjustment, 0),\n",
    "            \"前进2.2米\": Action(car.go_distance, 2.2, sleep_time=0.2),\n",
    "            # \"播报结束语音\": Action(media_player.play, \"big_car_end\", block=True),\n",
    "            # \"转向0\": Action(car.yaw_adjustment, 0),\n",
    "        }\n",
    "    }\n"
   ]
  },
  {
   "cell_type": "code",
   "execution_count": null,
   "metadata": {
    "collapsed": false
   },
   "outputs": [],
   "source": [
    "car.go_distance(-2.5)"
   ]
  },
  {
   "cell_type": "code",
   "execution_count": null,
   "metadata": {
    "collapsed": false
   },
   "outputs": [],
   "source": [
    "procedure = Procedure()"
   ]
  },
  {
   "cell_type": "code",
   "execution_count": null,
   "metadata": {
    "collapsed": false
   },
   "outputs": [],
   "source": [
    "procedure.create_tasks(task)"
   ]
  },
  {
   "cell_type": "code",
   "execution_count": null,
   "metadata": {
    "collapsed": false
   },
   "outputs": [],
   "source": [
    "procedure.run(goal_index=\"10.2\")"
   ]
  },
  {
   "cell_type": "code",
   "execution_count": null,
   "metadata": {
    "collapsed": false
   },
   "outputs": [],
   "source": [
    "procedure.run_once(goal_index=\"\")"
   ]
  },
  {
   "cell_type": "code",
   "execution_count": null,
   "metadata": {
    "collapsed": false
   },
   "outputs": [],
   "source": [
    "procedure.reset()"
   ]
  },
  {
   "cell_type": "code",
   "execution_count": null,
   "metadata": {
    "collapsed": false
   },
   "outputs": [],
   "source": [
    "arm_left.get_ordinate()"
   ]
  },
  {
   "cell_type": "code",
   "execution_count": null,
   "metadata": {
    "collapsed": false
   },
   "outputs": [],
   "source": [
    "arm_left.reset()\n",
    "\n",
    "arm_right.reset()"
   ]
  },
  {
   "cell_type": "code",
   "execution_count": null,
   "metadata": {
    "collapsed": false
   },
   "outputs": [],
   "source": [
    "car.go_distance(-0.24)"
   ]
  },
  {
   "cell_type": "code",
   "execution_count": null,
   "metadata": {
    "collapsed": false
   },
   "outputs": [],
   "source": [
    "task_test = {\n",
    "    \"测试\": Action(detect_and_aim_threading, catcher_left, mode=\"vegetable\", is_show=True)\n",
    "}"
   ]
  },
  {
   "cell_type": "code",
   "execution_count": null,
   "metadata": {
    "collapsed": false
   },
   "outputs": [],
   "source": [
    "detect_and_aim_threading(catcher_right, mode=\"fruit\", is_show=True)"
   ]
  },
  {
   "cell_type": "code",
   "execution_count": null,
   "metadata": {
    "collapsed": false
   },
   "outputs": [],
   "source": [
    "procedure.create_tasks(task_test)"
   ]
  },
  {
   "cell_type": "code",
   "execution_count": null,
   "metadata": {
    "collapsed": false
   },
   "outputs": [],
   "source": [
    "procedure.run()"
   ]
  },
  {
   "cell_type": "code",
   "execution_count": null,
   "metadata": {
    "collapsed": false
   },
   "outputs": [],
   "source": [
    "detect_and_aim_threading(catcher_right, mode=\"fruit\", is_show=True)"
   ]
  },
  {
   "cell_type": "code",
   "execution_count": null,
   "metadata": {
    "collapsed": false
   },
   "outputs": [],
   "source": [
    "detect_and_aim_threading(catcher_left, mode=\"vegetable\", is_show=True)"
   ]
  },
  {
   "cell_type": "code",
   "execution_count": null,
   "metadata": {
    "collapsed": false
   },
   "outputs": [],
   "source": [
    "arm_left.send_ordinate(280, 45, 240, -93, 0, times=1500)"
   ]
  },
  {
   "cell_type": "code",
   "execution_count": null,
   "metadata": {
    "collapsed": false
   },
   "outputs": [],
   "source": [
    "arm_left.reset()\n",
    "arm_right.reset()"
   ]
  },
  {
   "cell_type": "code",
   "execution_count": null,
   "metadata": {
    "collapsed": false
   },
   "outputs": [],
   "source": [
    "arm_left.start_aim(mode=\"fruit\")"
   ]
  },
  {
   "cell_type": "code",
   "execution_count": null,
   "metadata": {
    "collapsed": false
   },
   "outputs": [],
   "source": [
    "arm_right.reset()"
   ]
  },
  {
   "cell_type": "code",
   "execution_count": null,
   "metadata": {
    "collapsed": false
   },
   "outputs": [],
   "source": [
    "arm_right.reset()\n",
    "arm_left.reset()"
   ]
  },
  {
   "cell_type": "code",
   "execution_count": null,
   "metadata": {
    "collapsed": false
   },
   "outputs": [],
   "source": [
    "arm_right.close()\n",
    "arm_left.close()"
   ]
  },
  {
   "cell_type": "code",
   "execution_count": null,
   "metadata": {
    "collapsed": false
   },
   "outputs": [],
   "source": []
  },
  {
   "cell_type": "code",
   "execution_count": null,
   "metadata": {
    "collapsed": false
   },
   "outputs": [],
   "source": [
    "cap = None\n",
    "start,end = 0.0,0.0\n",
    "def nothing(x):\n",
    "    pass\n",
    "WindowName = 'result'\n",
    "mode = \"fruit\"\n",
    "color = \"red\"\n",
    "camera = camera_right\n",
    "if mode == \"fruit\":\n",
    "    if color == \"red\":\n",
    "        color_tuple = camera.fruit_red_color\n",
    "    else:\n",
    "        color_tuple = camera.fruit_green_color\n",
    "elif mode == \"vegetable\":\n",
    "    if color == \"red\":\n",
    "        color_tuple = camera.vegetable_red_color\n",
    "    else:\n",
    "        color_tuple = camera.vegetable_green_color\n",
    "else:\n",
    "    if color == \"red\":\n",
    "        color_tuple = camera.apple_red_color\n",
    "    else:\n",
    "        color_tuple = camera.apple_green_color\n",
    "Bl = color_tuple[0][0]\n",
    "Gl = color_tuple[0][1]\n",
    "Rl = color_tuple[0][2]\n",
    "Bh = color_tuple[1][0]\n",
    "Gh = color_tuple[1][1]\n",
    "Rh = color_tuple[1][2]\n",
    "cv2.namedWindow(WindowName, cv2.WINDOW_KEEPRATIO)  # 建立空窗口\n",
    "cv2.createTrackbar('Bl', WindowName, Bl, 255, nothing)  # 创建滑动条\n",
    "cv2.createTrackbar('Gl', WindowName, Gl, 255, nothing)  # 创建滑动条\n",
    "cv2.createTrackbar('Rl', WindowName, Rl, 255, nothing)  # 创建滑动条\n",
    "cv2.createTrackbar('Bh', WindowName, Bh, 255, nothing)  # 创建滑动条\n",
    "cv2.createTrackbar('Gh', WindowName, Gh, 255, nothing)  # 创建滑动条\n",
    "cv2.createTrackbar('Rh', WindowName, Rh, 255, nothing)  # 创建滑动条\n",
    "cv2.createTrackbar('iterations', WindowName, 0, 20, nothing)  # 创建滑动条"
   ]
  },
  {
   "cell_type": "code",
   "execution_count": null,
   "metadata": {
    "collapsed": false
   },
   "outputs": [],
   "source": [
    "while True:\n",
    "    time.sleep(0.05)\n",
    "    global start,end\n",
    "    frame = camera_right.get_frame()\n",
    "\n",
    "    # 获取滑动条值\n",
    "    Bl = cv2.getTrackbarPos('Bl', WindowName)\n",
    "    Gl = cv2.getTrackbarPos('Gl', WindowName)\n",
    "    Rl = cv2.getTrackbarPos('Rl', WindowName)\n",
    "    Bh = cv2.getTrackbarPos('Bh', WindowName)\n",
    "    Gh = cv2.getTrackbarPos('Gh', WindowName)\n",
    "    Rh = cv2.getTrackbarPos('Rh', WindowName)\n",
    "    ite = cv2.getTrackbarPos('iterations', WindowName)\n",
    "\n",
    "    #色域设置\n",
    "    hsv_image = cv2.cvtColor(frame, cv2.COLOR_BGR2HSV)\n",
    "    lower_color = np.array([Bl, Gl, Rl])\n",
    "    upper_color = np.array([Bh, Gh, Rh])\n",
    "\n",
    "    #开运算\n",
    "    hsv_image = cv2.erode(hsv_image, np.ones((3,3),np.uint8), iterations=ite)\n",
    "    hsv_image = cv2.dilate(hsv_image, np.ones((3,3),np.uint8), iterations=ite)\n",
    "\n",
    "    #模糊处理\n",
    "    hsv_image = cv2.blur(hsv_image, (3, 3))\n",
    "\n",
    "    #二值转换，进行颜色分割---》把色域内的像素点设为白色，其余像素点设为黑色\n",
    "    mask = cv2.inRange(hsv_image, lower_color, upper_color)\n",
    "\n",
    "\n",
    "    #获取色块轮廓（cv2.findContours()函数返回的轮廓列表是按轮廓大小排序的）\n",
    "    contours,hierarchy= cv2.findContours(mask, cv2.RETR_EXTERNAL, cv2.CHAIN_APPROX_SIMPLE)\n",
    "\n",
    "    biggest_area = 0\n",
    "    if contours :\n",
    "        for contour in contours:#筛选出目标色块\n",
    "            x, y, w, h = cv2.boundingRect(contour)\n",
    "            area = cv2.contourArea(contour)\n",
    "            if area > biggest_area:\n",
    "                biggest_area = area\n",
    "            # print(str(biggest_area) + \" _____ \" + str(x + w / 2) + \" _____ \" + str(y + h / 2))\n",
    "            #绘制矩形框\n",
    "            # cv2.rectangle(hsv_image, (x, y), (x + w, y + h), (0, 255, 0), 2)\n",
    "\n",
    "    cv2.namedWindow(\"hsv_image\", cv2.WINDOW_KEEPRATIO)\n",
    "    cv2.namedWindow(\"mask\", cv2.WINDOW_KEEPRATIO)\n",
    "\n",
    "    cv2.imshow(\"hsv_image\", hsv_image)\n",
    "    cv2.imshow(\"mask\", mask)\n",
    "    # 按下 'q' 键退出循环\n",
    "    if cv2.waitKey(1) & 0xFF == 27:\n",
    "        break\n",
    "\n",
    "cv2.destroyAllWindows()\n",
    "#34 0 195\n",
    "#255 186 236\n",
    "#self.fruit_red_color = ([0, 130, 0], [255, 255, 255])\n",
    "        # self.fruit_green_color = ([42, 77, 0], [255, 162, 145])\n",
    "        # self.vegetable_red_color = ([0, 92, 0], [14, 255, 255])\n",
    "        # self.vegetable_green_color = ([42, 77, 0], [255, 162, 145])"
   ]
  },
  {
   "cell_type": "code",
   "execution_count": null,
   "metadata": {
    "collapsed": false
   },
   "outputs": [],
   "source": [
    "while True:\n",
    "    time.sleep(0.05)\n",
    "    global start,end\n",
    "    frame = camera_left.get_frame()\n",
    "\n",
    "    # 获取滑动条值\n",
    "    Bl = cv2.getTrackbarPos('Bl', WindowName)\n",
    "    Gl = cv2.getTrackbarPos('Gl', WindowName)\n",
    "    Rl = cv2.getTrackbarPos('Rl', WindowName)\n",
    "    Bh = cv2.getTrackbarPos('Bh', WindowName)\n",
    "    Gh = cv2.getTrackbarPos('Gh', WindowName)\n",
    "    Rh = cv2.getTrackbarPos('Rh', WindowName)\n",
    "    ite = cv2.getTrackbarPos('iterations', WindowName)\n",
    "\n",
    "\n",
    "    #色域设置\n",
    "    hsv_image = cv2.cvtColor(frame, cv2.COLOR_BGR2HSV)\n",
    "    lower_color = np.array([Bl, Gl, Rl])\n",
    "    upper_color = np.array([Bh, Gh, Rh])\n",
    "\n",
    "    #开运算\n",
    "    hsv_image = cv2.erode(hsv_image, np.ones((3,3),np.uint8), iterations=ite)\n",
    "    hsv_image = cv2.dilate(hsv_image, np.ones((3,3),np.uint8), iterations=ite)\n",
    "\n",
    "    #模糊处理\n",
    "    hsv_image = cv2.blur(hsv_image, (9, 9))\n",
    "\n",
    "    #二值转换，进行颜色分割---》把色域内的像素点设为白色，其余像素点设为黑色\n",
    "    mask = cv2.inRange(hsv_image, lower_color, upper_color)\n",
    "\n",
    "\n",
    "    #获取色块轮廓（cv2.findContours()函数返回的轮廓列表是按轮廓大小排序的）\n",
    "    contours,hierarchy= cv2.findContours(mask, cv2.RETR_EXTERNAL, cv2.CHAIN_APPROX_SIMPLE)\n",
    "\n",
    "    biggest_area = 0\n",
    "    if contours :\n",
    "        for contour in contours:#筛选出目标色块\n",
    "            x, y, w, h = cv2.boundingRect(contour)\n",
    "            area = cv2.contourArea(contour)\n",
    "            if area > biggest_area:\n",
    "                biggest_area = area\n",
    "            # print(str(biggest_area) + \" _____ \" + str(x + w / 2) + \" _____ \" + str(y + h / 2))\n",
    "            #绘制矩形框\n",
    "            cv2.rectangle(hsv_image, (x, y), (x + w, y + h), (0, 255, 0), 2)\n",
    "\n",
    "    cv2.namedWindow(\"hsv_image\", cv2.WINDOW_KEEPRATIO)\n",
    "    cv2.namedWindow(\"mask\", cv2.WINDOW_KEEPRATIO)\n",
    "\n",
    "    cv2.imshow(\"hsv_image\", hsv_image)\n",
    "    cv2.imshow(\"mask\", mask)\n",
    "    # 按下 'q' 键退出循环\n",
    "    if cv2.waitKey(1) & 0xFF == 27:\n",
    "        break\n",
    "\n",
    "cv2.destroyAllWindows()"
   ]
  },
  {
   "cell_type": "code",
   "execution_count": null,
   "metadata": {
    "collapsed": false
   },
   "outputs": [],
   "source": [
    "count = len(os.listdir(\"/home/dianfei/catch_robot_v2/apple_pic\"))\n",
    "while True:\n",
    "    # 读取一帧图像\n",
    "    time.sleep(0.05)\n",
    "    frame = camera_right.get_frame()\n",
    "    # 显示图像\n",
    "    cv2.imshow(\"Frame\", frame)\n",
    "\n",
    "    # 检测键盘上的按键\n",
    "    key = cv2.waitKey(1) & 0xFF\n",
    "\n",
    "    # 如果按下's'键，则保存当前帧为照片\n",
    "    if key == ord('s'):\n",
    "        cv2.imwrite(f\"/home/dianfei/catch_robot_v2/apple_pic/{count}.jpg\", frame)\n",
    "        count += 1\n",
    "        print(f\"{count}.jpg照片已保存\")\n",
    "\n",
    "    # 如果按下ESC键，则关闭窗口并结束循环\n",
    "    elif key == 27:\n",
    "        break"
   ]
  },
  {
   "cell_type": "code",
   "execution_count": null,
   "metadata": {
    "collapsed": false
   },
   "outputs": [],
   "source": [
    "cv2.destroyAllWindows()"
   ]
  },
  {
   "cell_type": "code",
   "execution_count": null,
   "metadata": {
    "collapsed": false
   },
   "outputs": [],
   "source": [
    "arm_left.start_aim(\"apple\")"
   ]
  },
  {
   "cell_type": "code",
   "execution_count": null,
   "metadata": {
    "collapsed": false
   },
   "outputs": [],
   "source": [
    "arm_right.reset()\n",
    "arm_left.reset()"
   ]
  },
  {
   "cell_type": "code",
   "execution_count": null,
   "metadata": {
    "collapsed": false
   },
   "outputs": [],
   "source": [
    "proof_location(False)"
   ]
  },
  {
   "cell_type": "code",
   "execution_count": null,
   "metadata": {
    "collapsed": false
   },
   "outputs": [],
   "source": [
    "car.go_distance(-0.15)"
   ]
  },
  {
   "cell_type": "code",
   "execution_count": null,
   "metadata": {
    "collapsed": false
   },
   "outputs": [],
   "source": [
    "car.sideway(0.15, -0.1)"
   ]
  },
  {
   "cell_type": "code",
   "execution_count": null,
   "metadata": {
    "collapsed": false
   },
   "outputs": [],
   "source": [
    "def proof_location(goal_dis, is_show=False):\n",
    "    frame, results = camera_left.model_detect(conf=0.9, is_show=is_show, limit_area=2000)\n",
    "    if results[0][\"color\"] == None:     # 没有东西的情况，正常不会发生\n",
    "        print(\"没有识别到东西\")\n",
    "        return\n",
    "\n",
    "    results.sort(key=lambda x: x[\"area\"], reverse=True)\n",
    "    if len(results) > 3:\n",
    "        results = results[:3]\n",
    "\n",
    "    results.sort(key=lambda x: x[\"cx\"])\n",
    "    print(results)\n",
    "    for result in results:\n",
    "        print(result)\n",
    "        deep = result[\"deep\"]\n",
    "        x_dis = result[\"x_distance\"]\n",
    "        side = x_dis * 0.0014 * deep / 1.8\n",
    "        print(side)\n",
    "        A = -74.79063\n",
    "        B = 2.64051\n",
    "        goal_side = A + B * -side\n",
    "\n",
    "        dis = int(deep) / 1000 - goal_dis\n",
    "        side = int(goal_side) / 1000\n",
    "        dis = int(dis * 1000) / 1000\n",
    "        print(side, dis)\n",
    "        car.sideway(dis, -side)\n",
    "        break"
   ]
  },
  {
   "cell_type": "code",
   "execution_count": null,
   "metadata": {
    "collapsed": false
   },
   "outputs": [],
   "source": [
    "arm_left.start_aim(\"apple\")"
   ]
  },
  {
   "cell_type": "code",
   "execution_count": null,
   "metadata": {
    "collapsed": false
   },
   "outputs": [],
   "source": [
    "proof_location(0.29, is_show=False)"
   ]
  },
  {
   "cell_type": "code",
   "execution_count": null,
   "metadata": {
    "collapsed": false
   },
   "outputs": [],
   "source": [
    "car.go_distance(-0.05)"
   ]
  },
  {
   "cell_type": "code",
   "execution_count": null,
   "metadata": {
    "collapsed": false
   },
   "outputs": [],
   "source": [
    "car.yaw_adjustment(90)"
   ]
  },
  {
   "cell_type": "code",
   "execution_count": null,
   "metadata": {
    "collapsed": false
   },
   "outputs": [],
   "source": [
    "car.sideway(0.3, 0.1)"
   ]
  },
  {
   "cell_type": "code",
   "execution_count": null,
   "metadata": {
    "collapsed": false
   },
   "outputs": [],
   "source": [
    "arm_left.reset()"
   ]
  },
  {
   "cell_type": "code",
   "execution_count": null,
   "metadata": {
    "collapsed": false
   },
   "outputs": [],
   "source": [
    "camera_to_claw = 60\n",
    "def detect_cross(mode=\"left\", is_show=False):\n",
    "    point_list = []\n",
    "\n",
    "    for i in range(4):\n",
    "        if mode == \"right\":\n",
    "            frame, point = cross_detect.get_cross_point(camera_right.get_frame(), is_show=is_show)\n",
    "        else:\n",
    "            frame, point = cross_detect.get_cross_point(camera_left.get_frame(), is_show=is_show)\n",
    "        if point is not None:\n",
    "            point_list.append(point)\n",
    "    print(point_list)\n",
    "    if len(point_list) > 0:\n",
    "        point = np.mean(point_list, axis=0)\n",
    "        if mode == \"right\":\n",
    "            for i in range(3):\n",
    "                _, _, Z, _ = catcher_right.arm.get_ordinate()\n",
    "            camera_height = Z + height + camera_to_claw\n",
    "        else:\n",
    "            for i in range(3):\n",
    "                _, _, Z, _ = catcher_left.arm.get_ordinate()\n",
    "            camera_height = Z + height  # 摄像头离地高度\n",
    "        print(f\"point: {point}\")\n",
    "        x_dis = 640 / 2 - point[0]\n",
    "        y_dis = 480 / 2 - point[1]\n",
    "        xy_dis = math.sqrt((x_dis * px) ** 2 + (y_dis * px) ** 2)\n",
    "        cos = x_dis * px / xy_dis\n",
    "        sin = y_dis * px / xy_dis\n",
    "        dis = xy_dis * camera_height / f\n",
    "        x_move = dis * sin * 2.5\n",
    "        y_move = dis * cos * 2.5\n",
    "        print(f\"x_move: {x_move}, y_move: {y_move}\")\n",
    "\n",
    "        return True, x_move, y_move\n",
    "\n",
    "    else:\n",
    "        return False, None, None\n",
    "\n",
    "\n",
    "def detect_cross_and_run(count=0, bias=0.03, goal_x=0, goal_y=0, clockwise_rotate=True, mode=\"left\", is_move=True):\n",
    "    status, x_move, y_move = detect_cross(mode=mode)\n",
    "    right_arm_to_mid_dis = 90\n",
    "    left_arm_to_mid_dis = 90\n",
    "    arm_to_car_mid_dis = 100\n",
    "    x_bias = -50\n",
    "    y_bias = -20\n",
    "    rotate_x_bias = -70\n",
    "\n",
    "    rotate_y_bias = -70\n",
    "    if mode == \"left\":\n",
    "        arm = arm_left\n",
    "    else:\n",
    "        arm = arm_right\n",
    "    if status:\n",
    "\n",
    "        x, y, z, angle = arm.get_ordinate()\n",
    "\n",
    "        if mode == \"left\":\n",
    "            x_dis = x_move + x + arm_to_car_mid_dis + goal_x + rotate_x_bias\n",
    "            y_dis = y_move + left_arm_to_mid_dis + goal_y + rotate_y_bias\n",
    "            final_x = x_dis / 1000\n",
    "            final_y = y_dis / 1000\n",
    "        else:\n",
    "            x_dis = x_move + x + arm_to_car_mid_dis + goal_x+ rotate_x_bias\n",
    "            y_dis = y_move - right_arm_to_mid_dis + goal_y+ rotate_y_bias\n",
    "            final_x = x_dis / 1000\n",
    "            final_y = -y_dis / 1000\n",
    "        print(f\"x_move(摄像头离十字标距离): {x_move}, y_move: {y_move}, y_dis: {y_dis}, x_dis: {x_dis}\")\n",
    "        print(f\"当前车离十字标距离：{x_move + x + arm_to_car_mid_dis}\")\n",
    "        print(f\"final_x: {final_x}, final_y: {final_y}\")\n",
    "        if is_move:\n",
    "            arm.reset()\n",
    "            time.sleep(1)\n",
    "            car.go_distance(final_x, is_print=True)\n",
    "            time.sleep(1)\n",
    "            if clockwise_rotate:\n",
    "                car.yaw_adjustment(90, is_print=True)\n",
    "            else:\n",
    "                car.yaw_adjustment(-90, is_print=True)\n",
    "                # final_y = -final_y\n",
    "            time.sleep(1)\n",
    "            car.go_distance(final_y, is_print=True)\n",
    "            time.sleep(1)\n",
    "        return True\n",
    "    else:\n",
    "        if count > 5:\n",
    "            os.system(\"v4l2-ctl --device=/dev/video_right --set-ctrl=exposure_time_absolute=200\")\n",
    "            if mode == \"right\":\n",
    "                arm_right.reset()\n",
    "            else:\n",
    "                arm_left.reset()\n",
    "            if clockwise_rotate:\n",
    "                car.yaw_adjustment(90)\n",
    "            else:\n",
    "                car.yaw_adjustment(-90)\n",
    "            car.go_distance(0.2)\n",
    "            print(\"未检测到交叉点\")\n",
    "            return True\n",
    "\n",
    "        car.go_distance(0.1)\n",
    "        time.sleep(1)\n",
    "        result = detect_cross_and_run(count + 1, goal_x=goal_x, goal_y=goal_y, clockwise_rotate=clockwise_rotate)\n",
    "        return result"
   ]
  },
  {
   "cell_type": "code",
   "execution_count": null,
   "metadata": {
    "collapsed": false
   },
   "outputs": [],
   "source": [
    "cross_detect = Cross_Detect()"
   ]
  },
  {
   "cell_type": "code",
   "execution_count": null,
   "metadata": {
    "collapsed": false
   },
   "outputs": [],
   "source": [
    "arm_right.send_ordinate(x=280, y=45, z=240, angle=-100, mode=0, times=700)"
   ]
  },
  {
   "cell_type": "code",
   "execution_count": null,
   "metadata": {
    "collapsed": false
   },
   "outputs": [],
   "source": [
    "detect_cross(\"left\", True)"
   ]
  },
  {
   "cell_type": "code",
   "execution_count": null,
   "metadata": {
    "collapsed": false
   },
   "outputs": [],
   "source": [
    "camera_left.detect(mode=None, is_show=True)"
   ]
  },
  {
   "cell_type": "code",
   "execution_count": null,
   "metadata": {
    "collapsed": false
   },
   "outputs": [],
   "source": [
    "cross_detect.get_cross_point(camera_left.get_frame(), is_show=True)"
   ]
  },
  {
   "cell_type": "code",
   "execution_count": null,
   "metadata": {
    "collapsed": false
   },
   "outputs": [],
   "source": []
  },
  {
   "cell_type": "code",
   "execution_count": null,
   "metadata": {
    "collapsed": false
   },
   "outputs": [],
   "source": [
    "cross_detect.get_cross_point(camera_left.get_frame(), is_show=True)"
   ]
  },
  {
   "cell_type": "code",
   "execution_count": null,
   "metadata": {
    "collapsed": false
   },
   "outputs": [],
   "source": [
    "detect_cross(is_show=True)"
   ]
  },
  {
   "cell_type": "code",
   "execution_count": null,
   "metadata": {
    "collapsed": false
   },
   "outputs": [],
   "source": [
    "cv2.destroyAllWindows()"
   ]
  },
  {
   "cell_type": "code",
   "execution_count": null,
   "metadata": {
    "collapsed": false
   },
   "outputs": [],
   "source": [
    "arm_right.send_ordinate(x=280, y=45, z=240, angle=-100, mode=0, times=700)"
   ]
  },
  {
   "cell_type": "code",
   "execution_count": null,
   "metadata": {
    "collapsed": false
   },
   "outputs": [],
   "source": [
    "arm_left.send_ordinate(x=280, y=20, z=240, angle=-75, mode=0, times=700)"
   ]
  },
  {
   "cell_type": "code",
   "execution_count": null,
   "metadata": {
    "collapsed": false
   },
   "outputs": [],
   "source": [
    "arm_left.reset()\n",
    "arm_right.reset()"
   ]
  },
  {
   "cell_type": "code",
   "execution_count": null,
   "metadata": {
    "collapsed": false
   },
   "outputs": [],
   "source": [
    "arm_right.start_aim(\"apple\")"
   ]
  },
  {
   "cell_type": "code",
   "execution_count": null,
   "metadata": {
    "collapsed": false
   },
   "outputs": [],
   "source": [
    "camera_left.model_detect(is_show=True)"
   ]
  },
  {
   "cell_type": "code",
   "execution_count": null,
   "metadata": {
    "collapsed": false
   },
   "outputs": [],
   "source": [
    "detect_cross_and_run(goal_x=-330, goal_y=0, clockwise_rotate=False,is_move=True) # 前进0.7"
   ]
  },
  {
   "cell_type": "code",
   "execution_count": null,
   "metadata": {
    "collapsed": false
   },
   "outputs": [],
   "source": [
    "car.go_distance(-0.5)"
   ]
  },
  {
   "cell_type": "code",
   "execution_count": null,
   "metadata": {
    "collapsed": false
   },
   "outputs": [],
   "source": [
    "car.yaw_adjustment(-90)"
   ]
  },
  {
   "cell_type": "code",
   "execution_count": null,
   "metadata": {
    "collapsed": false
   },
   "outputs": [],
   "source": [
    "car.go_distance(-0.4)\n"
   ]
  },
  {
   "cell_type": "code",
   "execution_count": null,
   "metadata": {
    "collapsed": false
   },
   "outputs": [],
   "source": [
    "arm_left.reset()\n",
    "arm_right.reset()"
   ]
  },
  {
   "cell_type": "code",
   "execution_count": null,
   "metadata": {
    "collapsed": false
   },
   "outputs": [],
   "source": [
    "detect_cross_and_run()"
   ]
  },
  {
   "cell_type": "code",
   "execution_count": null,
   "metadata": {
    "collapsed": false
   },
   "outputs": [],
   "source": [
    "car.sideway(0.35, 0.2)"
   ]
  },
  {
   "cell_type": "code",
   "execution_count": null,
   "metadata": {
    "collapsed": false
   },
   "outputs": [],
   "source": [
    "def detect_cross(mode=\"left\", is_show=False):\n",
    "    point_list = []\n",
    "\n",
    "    for i in range(4):\n",
    "        if mode == \"right\":\n",
    "            frame, point = cross_detect.get_cross_point(camera_right.get_frame(), is_show=is_show)\n",
    "        else:\n",
    "            frame, point = cross_detect.get_cross_point(camera_left.get_frame(), is_show=is_show)\n",
    "        if point is not None:\n",
    "            point_list.append(point)\n",
    "\n",
    "    print(point_list)\n",
    "    if len(point_list) > 0:\n",
    "        point = np.mean(point_list, axis=0)\n",
    "        if mode == \"right\":\n",
    "            for i in range(3):\n",
    "                _, _, Z, _ = catcher_right.arm.get_ordinate()\n",
    "            camera_height = Z + height + camera_to_claw\n",
    "        else:\n",
    "            for i in range(3):\n",
    "                _, _, Z, _ = catcher_left.arm.get_ordinate()\n",
    "            camera_height = Z + height  # 摄像头离地高度\n",
    "        print(f\"point: {point}\")\n",
    "        x_dis = 640 / 2 - point[0]\n",
    "        y_dis = 480 / 2 - point[1]\n",
    "        xy_dis = math.sqrt((x_dis * px) ** 2 + (y_dis * px) ** 2)\n",
    "        cos = x_dis * px / xy_dis\n",
    "        sin = y_dis * px / xy_dis\n",
    "        dis = xy_dis * camera_height / f\n",
    "        x_move = dis * sin * 2.5\n",
    "        y_move = dis * cos * 2.5\n",
    "        print(f\"x_move: {x_move}, y_move: {y_move}\")\n",
    "\n",
    "        return True, x_move, y_move\n",
    "\n",
    "    else:\n",
    "        return False, None, None\n",
    "\n",
    "def detect_cross_and_run_A_to_B(count=0, bias=-0.01, is_show=False):\n",
    "    # camera_right.change_auto_exposure(False)\n",
    "    # time.sleep(1)\n",
    "    # os.system(\"v4l2-ctl --device=/dev/video_right --set-ctrl=exposure_time_absolute=100\")  # 减低曝光\n",
    "    # time.sleep(1)\n",
    "    status, x_move, y_move = detect_cross(mode=\"right\", is_show=is_show)\n",
    "    right_arm_to_mid_dis = 90\n",
    "    arm_to_car_mid_dis = 100\n",
    "    rotate_x_bias = 45\n",
    "    if status:\n",
    "        x, y, z, angle = arm_right.get_ordinate()\n",
    "        x_dis = x_move + x + arm_to_car_mid_dis + rotate_x_bias\n",
    "        y_dis = y_move - right_arm_to_mid_dis\n",
    "        final_x = x_dis / 1000\n",
    "        final_y = -y_dis / 1000\n",
    "        print(f\"final_x: {final_x}, final_y: {final_y}\")\n",
    "        arm_right.reset()\n",
    "        # os.system(\"v4l2-ctl --device=/dev/video_right --set-ctrl=exposure_time_absolute=200\")\n",
    "        # camera_right.change_auto_exposure(False)\n",
    "        car.go_distance(final_x+bias)\n",
    "        time.sleep(0.2)\n",
    "        car.yaw_adjustment(90)\n",
    "        time.sleep(0.2)\n",
    "        car.go_distance(final_y)\n",
    "        return True\n",
    "    else:\n",
    "        if count > 4:\n",
    "            # os.system(\"v4l2-ctl --device=/dev/video_right --set-ctrl=exposure_time_absolute=200\")\n",
    "            arm_right.reset()\n",
    "            # camera_right.change_auto_exposure(False)\n",
    "            car.yaw_adjustment(90)\n",
    "            time.sleep(1)\n",
    "            car.go_distance(0.2)\n",
    "            print(\"未检测到交叉点\")\n",
    "            return True\n",
    "        time.sleep(1)\n",
    "        car.go_distance(0.2)\n",
    "        result = detect_cross_and_run_A_to_B(count + 1)\n",
    "        return result\n",
    "\n"
   ]
  },
  {
   "cell_type": "code",
   "execution_count": null,
   "metadata": {
    "collapsed": false
   },
   "outputs": [],
   "source": [
    "detect_cross_and_run_A_to_B"
   ]
  },
  {
   "cell_type": "code",
   "execution_count": null,
   "metadata": {
    "collapsed": false
   },
   "outputs": [],
   "source": [
    "car.yaw_adjustment(90)"
   ]
  },
  {
   "cell_type": "code",
   "execution_count": null,
   "metadata": {
    "collapsed": false
   },
   "outputs": [],
   "source": [
    "arm_right.reset()"
   ]
  },
  {
   "cell_type": "code",
   "execution_count": null,
   "metadata": {
    "collapsed": false
   },
   "outputs": [],
   "source": [
    "cv2.destroyAllWindows()"
   ]
  },
  {
   "cell_type": "code",
   "execution_count": null,
   "metadata": {
    "collapsed": false
   },
   "outputs": [],
   "source": [
    "procedure = Procedure()\n",
    "action = Procedure_Action(procedure)\n",
    "Action = action.Action\n",
    "task = {\n",
    "    \"十字标对准动作\": Action(arm_left.send_ordinate, x=280, y=20, z=240, angle=-75, mode=0, times=700, sleep_time=1),\n",
    "    \"十字标对正\": Action(detect_cross_and_run, goal_x=-350, goal_y=-20, clockwise_rotate=False, sleep_time=0.5),\n",
    "    \"前进0.55\": Action(car.go_distance, 0.55, sleep_time=0.2),\n",
    "    \"苹果预瞄准动作\": Action(arm_left.start_aim, mode=\"apple\", sleep_time=1),\n",
    "    \"苹果预识别\": Action(pre_detect_apple, camera_left, goal_dis=0.32, mode=\"left\", sleep_time=0.5),\n",
    "    \"苹果抓取动作\": Action(prepare_aim, is_get_result=True, sleep_time=0.5),\n",
    "    \"苹果抓取\": Action(catch_apple_all_action, is_get_result=True, sleep_time=0.5),\n",
    "    \"前进0.05\": Action(car.go_distance, 0.05, sleep_time=0.2),\n",
    "    \"顺时针旋转90\": Action(car.yaw_adjustment, 90, sleep_time=0.5),\n",
    "    \"后退0.47\": Action(car.go_distance, -0.47, sleep_time=0.2),\n",
    "    \"苹果预瞄准动作1\": Action(arm_left.start_aim, mode=\"apple\", sleep_time=1),\n",
    "    \"苹果预识别1\": Action(pre_detect_apple, camera_left, mode=\"right\", sleep_time=0.5),\n",
    "    \"苹果抓取动作1\": Action(prepare_aim, is_get_result=True, sleep_time=0.5),\n",
    "    \"苹果抓取1\": Action(catch_apple_all_action, is_get_result=True, sleep_time=0.5),\n",
    "    \"后退0.45\": Action(car.go_distance, -0.45, sleep_time=0.2),\n",
    "    \"逆时针旋转90\": Action(car.yaw_adjustment, -90, sleep_time=0.5),\n",
    "    \"前进1.6\": Action(car.go_distance, 1.6, sleep_time=0.2),\n",
    "    \"顺时针旋转90度\": Action(car.yaw_adjustment, 90, sleep_time=0.5),\n",
    "    \"前进0.45\": Action(car.go_distance, 0.45, sleep_time=0.2),\n",
    "}\n"
   ]
  },
  {
   "cell_type": "code",
   "execution_count": null,
   "metadata": {
    "collapsed": false
   },
   "outputs": [],
   "source": [
    "task1 = {\n",
    "    \"十字标对准动作\": Action(arm_left.send_ordinate, x=280, y=20, z=240, angle=-75, mode=0, times=700, sleep_time=1),\n",
    "    \"十字标对正\": Action(detect_cross_and_run, goal_x=425, goal_y=0, clockwise_rotate=True, sleep_time=0.5),\n",
    "    \"前进0.6\": Action(car.go_distance, 0.6, sleep_time=0.2),\n",
    "    \"苹果预瞄准动作\": Action(arm_left.start_aim, mode=\"apple\", sleep_time=1),\n",
    "    \"苹果预识别\": Action(pre_detect_apple, camera_left, mode=\"left\", sleep_time=0.5),\n",
    "    \"苹果抓取动作\": Action(prepare_aim, is_get_result=True, sleep_time=0.5),\n",
    "    \"苹果抓取\": Action(catch_apple_all_action, is_get_result=True, sleep_time=0.5),\n",
    "    \"前进0.05\": Action(car.go_distance, 0.05, sleep_time=0.2),\n",
    "    \"顺时针旋转90\": Action(car.yaw_adjustment, 90, sleep_time=0.5),\n",
    "    \"后退0.45\": Action(car.go_distance, -0.45, sleep_time=0.2),\n",
    "    \"苹果预瞄准动作1\": Action(arm_left.start_aim, mode=\"apple\", sleep_time=1),\n",
    "    \"苹果预识别1\": Action(pre_detect_apple, camera_left, mode=\"right\", sleep_time=0.5),\n",
    "    \"苹果抓取动作1\": Action(prepare_aim, is_get_result=True, sleep_time=0.5),\n",
    "    \"苹果抓取1\": Action(catch_apple_all_action, is_get_result=True, sleep_time=0.5),\n",
    "    \"后退0.3\": Action(car.go_distance, -0.3, sleep_time=0.2),\n",
    "\n",
    "}"
   ]
  },
  {
   "cell_type": "code",
   "execution_count": null,
   "metadata": {
    "collapsed": false
   },
   "outputs": [],
   "source": [
    "task = {\n",
    "        \"前进0.21米\": Action(car.go_distance, 0.21),\n",
    "        \"旋转-90度\": Action(car.yaw_adjustment, -90),\n",
    "        \"播报开始语音\": Action(media_player.play, \"start\"),\n",
    "        \"前进0.54米\": Action(car.go_distance, 0.54),\n",
    "        \"A区第一组\": {\n",
    "            \"瞄准动作\": Action(pre_aim_action),\n",
    "            \"抓取\": Action(aim_and_catch_action, is_get_result=True),\n",
    "        },\n",
    "\n",
    "        \"A区第二组\": {\n",
    "            \"前进0.97米\": Action(car.go_distance, 0.95),\n",
    "            \"瞄准动作\": Action(pre_aim_action),\n",
    "            \"抓取\": Action(aim_and_catch_action, is_get_result=True),\n",
    "        },\n",
    "\n",
    "        \"A区第三组\": {\n",
    "            \"前进1米\": Action(car.go_distance, 1),\n",
    "            \"瞄准动作\": Action(pre_aim_action),\n",
    "            \"抓取\": Action(aim_and_catch_action, is_get_result=True),\n",
    "        },\n",
    "        \"A区到B区\": {\n",
    "            \"前进0.6米\": Action(car.go_distance, 0.6, sleep_time=0.2),\n",
    "            \"转向90\": Action(car.yaw_adjustment, 90, sleep_time=0.2),\n",
    "            \"前进0.58米\": Action(car.go_distance, 0.58, sleep_time=0.15),\n",
    "            \"十字标对准动作\": Action(arm_right.send_ordinate, x=280, y=45, z=240, angle=-100, mode=0, times=700, sleep_time=2),\n",
    "            \"十字标对正\": Action(detect_cross_and_run_A_to_B, is_show=False, sleep_time=0.2),\n",
    "            \"前进0.4\": Action(car.go_distance, 0.4, sleep_time=0.2),\n",
    "        },\n",
    "\n",
    "        \"B区第一组\": {\n",
    "            \"瞄准动作\": Action(pre_aim_action),\n",
    "            \"抓取\": Action(aim_and_catch_action, is_get_result=True),\n",
    "        },\n",
    "\n",
    "        \"B区第二组\": {\n",
    "            \"前进0.98米\": Action(car.go_distance, 1),\n",
    "            \"瞄准动作\": Action(pre_aim_action),\n",
    "            \"抓取\": Action(aim_and_catch_action, is_get_result=True),\n",
    "        },\n",
    "\n",
    "        \"B区第三组\": {\n",
    "            \"前进1米\": Action(car.go_distance, 1),\n",
    "            \"瞄准动作\": Action(pre_aim_action),\n",
    "            \"抓取\": Action(aim_and_catch_action, is_get_result=True),\n",
    "        },\n",
    "        \"B区到C区\": {\n",
    "            \"前进0.45米\": Action(car.go_distance, 0.45, sleep_time=0.15),\n",
    "            \"转向-90\": Action(car.yaw_adjustment, -90),\n",
    "            \"前进3.43米\": Action(car.go_distance, 3.43, sleep_time=0.2),\n",
    "            \"右爪复位\": Action(arm_right.reset),\n",
    "            \"播报结束语音\": Action(media_player.play, \"big_car_end\", block=False),\n",
    "            # \"转向0\": Action(car.yaw_adjustment, 0),\n",
    "        }\n",
    "    }\n",
    "task_D_1 = {\n",
    "    \"十字标对准动作\": Action(arm_left.send_ordinate, x=280, y=20, z=240, angle=-75, mode=0, times=700, sleep_time=2),\n",
    "    \"十字标对正\": Action(detect_cross_and_run, goal_x=-340, goal_y=-20, clockwise_rotate=False, sleep_time=0.5),\n",
    "    \"前进0.61\": Action(car.go_distance, 0.61, sleep_time=0.2),\n",
    "    \"苹果预瞄准动作\": Action(arm_left.start_aim, mode=\"apple\", sleep_time=1),\n",
    "    \"苹果预识别\": Action(pre_detect_apple, camera_left, goal_dis=0.33, mode=\"left\", sleep_time=0.5),\n",
    "    \"苹果抓取动作\": Action(prepare_aim, is_get_result=True, sleep_time=1.5),\n",
    "    \"苹果抓取\": Action(catch_apple_all_action, side=\"right\", is_get_result=True, sleep_time=0.5),\n",
    "    \"前进0.11\": Action(car.go_distance, 0.11, sleep_time=0.2),\n",
    "    \"顺时针旋转90\": Action(car.yaw_adjustment, 90, sleep_time=0.5),\n",
    "    \"后退0.45m\": Action(car.go_distance, -0.45, sleep_time=0.2),\n",
    "    \"苹果预瞄准动作1\": Action(arm_left.start_aim, mode=\"apple\", sleep_time=1),\n",
    "    \"苹果预识别1\": Action(pre_detect_apple, camera_left, goal_dis=0.33, mode=\"right\", sleep_time=0.5),\n",
    "    \"苹果抓取动作1\": Action(prepare_aim, is_get_result=True, sleep_time=1),\n",
    "    \"苹果抓取1\": Action(catch_apple_all_action, side=\"left\", is_get_result=True, sleep_time=0.5),\n",
    "    \"后退0.45\": Action(car.go_distance, -0.45, sleep_time=0.2),\n",
    "    \"逆时针旋转90\": Action(car.yaw_adjustment, -90, sleep_time=0.5),\n",
    "    \"前进1.6\": Action(car.go_distance, 1.6, sleep_time=0.2),\n",
    "    \"顺时针旋转90度\": Action(car.yaw_adjustment, 90, sleep_time=0.5),\n",
    "    \"前进0.45\": Action(car.go_distance, 0.45, sleep_time=0.2),\n",
    "}\n",
    "task_D_2 = {\n",
    "    \"十字标对准动作\": Action(arm_left.send_ordinate, x=280, y=20, z=240, angle=-75, mode=0, times=700, sleep_time=1),\n",
    "    \"十字标对正\": Action(detect_cross_and_run, goal_x=415, goal_y=-30, clockwise_rotate=True, sleep_time=0.5),\n",
    "    \"前进0.56\": Action(car.go_distance, 0.56, sleep_time=0.2),\n",
    "    \"苹果预瞄准动作\": Action(arm_left.start_aim, mode=\"apple\", sleep_time=1),\n",
    "    \"苹果预识别\": Action(pre_detect_apple, camera_left, goal_dis=0.33, mode=\"left\", sleep_time=0.5),\n",
    "    \"苹果抓取动作\": Action(prepare_aim, is_get_result=True, sleep_time=1),\n",
    "    \"苹果抓取\": Action(catch_apple_all_action, side=\"right\", is_get_result=True, sleep_time=0.5),\n",
    "    \"前进0.13\": Action(car.go_distance, 0.13, sleep_time=0.2),\n",
    "    \"顺时针旋转90\": Action(car.yaw_adjustment, 90, sleep_time=0.5),\n",
    "    \"后退0.47\": Action(car.go_distance, -0.47\n",
    "                       , sleep_time=0.2),\n",
    "    \"苹果预瞄准动作1\": Action(arm_left.start_aim, mode=\"apple\", sleep_time=1),\n",
    "    \"苹果预识别1\": Action(pre_detect_apple, camera_left, goal_dis=0.33,mode=\"right\", sleep_time=0.5),\n",
    "    \"苹果抓取动作1\": Action(prepare_aim, is_get_result=True, sleep_time=1),\n",
    "    \"苹果抓取1\": Action(catch_apple_all_action, side=\"left\", is_get_result=True, sleep_time=0.5),\n",
    "    \"后退0.3\": Action(car.go_distance, -0.3, sleep_time=0.2),\n",
    "    \"顺时针旋转90度\": Action(car.yaw_adjustment, 90, sleep_time=0.5),\n",
    "    \"前进1.42\": Action(car.go_distance, 1.42, sleep_time=0.2),\n",
    "\n",
    "}\n",
    "task_D = {\"task_D1\": task_D_1, \"task_D_2\": task_D_2}\n",
    "all_task = {\n",
    "    \"task_AB\": task,\n",
    "    \"task_D\": task_D\n",
    "}"
   ]
  },
  {
   "cell_type": "code",
   "execution_count": null,
   "metadata": {
    "collapsed": false
   },
   "outputs": [],
   "source": [
    "procedure.count = 0\n",
    "procedure.create_tasks(all_task)"
   ]
  },
  {
   "cell_type": "code",
   "execution_count": null,
   "metadata": {
    "collapsed": false
   },
   "outputs": [],
   "source": [
    "arm_left.reset()\n",
    "arm_right.reset()"
   ]
  },
  {
   "cell_type": "code",
   "execution_count": null,
   "metadata": {
    "collapsed": false
   },
   "outputs": [],
   "source": [
    "pre_detect_apple(camera_left, is_show=True)"
   ]
  },
  {
   "cell_type": "code",
   "execution_count": null,
   "metadata": {
    "collapsed": false
   },
   "outputs": [],
   "source": [
    "procedure.run(goal_index='3')"
   ]
  },
  {
   "cell_type": "code",
   "execution_count": null,
   "metadata": {
    "collapsed": false
   },
   "outputs": [],
   "source": [
    "procedure.run_once('1.3')"
   ]
  },
  {
   "cell_type": "code",
   "execution_count": null,
   "metadata": {
    "collapsed": false
   },
   "outputs": [],
   "source": [
    "car.go_distance(0.2)"
   ]
  },
  {
   "cell_type": "code",
   "execution_count": null,
   "metadata": {
    "collapsed": false
   },
   "outputs": [],
   "source": [
    "car.sideway(-0.1)"
   ]
  },
  {
   "cell_type": "code",
   "execution_count": null,
   "metadata": {
    "collapsed": false
   },
   "outputs": [],
   "source": [
    "car.yaw_adjustment(-90)"
   ]
  },
  {
   "cell_type": "code",
   "execution_count": null,
   "metadata": {
    "collapsed": false
   },
   "outputs": [],
   "source": [
    "pre_detect_apple(camera_left, is_show=True)"
   ]
  },
  {
   "cell_type": "code",
   "execution_count": null,
   "metadata": {
    "collapsed": false
   },
   "outputs": [],
   "source": [
    "arm_left.start_aim_apple_action = (170, 10, 400, 18)\n"
   ]
  },
  {
   "cell_type": "code",
   "execution_count": null,
   "metadata": {
    "collapsed": false
   },
   "outputs": [],
   "source": [
    "proof_location(0.3, is_show=True)"
   ]
  },
  {
   "cell_type": "code",
   "execution_count": null,
   "metadata": {
    "collapsed": false
   },
   "outputs": [],
   "source": []
  },
  {
   "cell_type": "code",
   "execution_count": null,
   "metadata": {
    "collapsed": false
   },
   "outputs": [],
   "source": [
    "frame, results = camera_left.model_detect(conf=0.85, is_show=False, limit_area=3000)\n",
    "mode = \"right\"\n",
    "red_apple_num = 0\n",
    "green_apple_num = 0\n",
    "red_apple_index_list = []\n",
    "green_apple_index_list = []\n",
    "status = None\n",
    "\n",
    "results.sort(key=lambda x: x[\"area\"], reverse=True)\n",
    "if len(results) >= 4:\n",
    "    results = results[:4]   # 现以面积筛选掉小面积的\n",
    "    if mode == \"left\":\n",
    "        results.sort(key=lambda x: x[\"cx\"])\n",
    "    else:\n",
    "        results.sort(key=lambda x: x[\"cx\"], reverse=True)\n",
    "    goal_results = results[:3]\n",
    "else:\n",
    "    goal_results = results\n",
    "\n",
    "# if results[0][\"area\"] < 5500:\n",
    "#     car.go_distance(0.03)\n",
    "goal_results.sort(key=lambda x: x[\"cx\"])\n",
    "print(goal_results)\n",
    "for i, result in enumerate(goal_results):\n",
    "    print(goal_results)\n",
    "    if i == 0:\n",
    "        cx = result[\"cx\"]\n",
    "        cy = result[\"cy\"]\n",
    "        w = result[\"w\"]\n",
    "        h = result[\"h\"]\n",
    "        x1 = cx - 0.5 * w\n",
    "        y1 = cy - 0.5 * h\n",
    "        x2 = cx + 0.5 * w\n",
    "        y2 = cy + 0.5 * h\n",
    "        cv2.putText(frame,\n",
    "                        f'goal_apple', (int(x1), int(y2 - 2)),\n",
    "                        cv2.FONT_HERSHEY_SIMPLEX,\n",
    "                        0.60, (255, 0, 0),\n",
    "                        thickness=1)\n",
    "        # 获取当前时间，并格式化为文件名\n",
    "        current_time = datetime.now().strftime(\"%m%d_%H%M%S\")  # 格式化时间为 'YYYYMMDD_HHMMSS'\n",
    "        cv2.imwrite(f\"/home/dianfei/catch_robot_v2/picture/pre_detect_{current_time}.jpg\", frame)"
   ]
  },
  {
   "cell_type": "code",
   "execution_count": null,
   "metadata": {
    "collapsed": false
   },
   "outputs": [],
   "source": [
    "arm_left.start_aim(\"apple\")"
   ]
  },
  {
   "cell_type": "code",
   "execution_count": null,
   "metadata": {
    "collapsed": false
   },
   "outputs": [],
   "source": [
    "pre_detect_apple(camera_left, goal_dis=0.33,)"
   ]
  },
  {
   "cell_type": "code",
   "execution_count": null,
   "metadata": {
    "collapsed": false
   },
   "outputs": [],
   "source": [
    "catcher_left.detect_apple(is_show=True)"
   ]
  },
  {
   "cell_type": "code",
   "execution_count": null,
   "metadata": {
    "collapsed": false
   },
   "outputs": [],
   "source": [
    "arm_right.reset()\n",
    "arm_left.reset()"
   ]
  },
  {
   "cell_type": "code",
   "execution_count": null,
   "metadata": {
    "collapsed": false
   },
   "outputs": [],
   "source": [
    "cv2.destroyAllWindows()"
   ]
  },
  {
   "cell_type": "code",
   "execution_count": null,
   "metadata": {
    "collapsed": false
   },
   "outputs": [],
   "source": [
    "arm_left.start_aim(\"apple\")"
   ]
  },
  {
   "cell_type": "code",
   "execution_count": null,
   "metadata": {
    "collapsed": false
   },
   "outputs": [],
   "source": [
    "car.go_distance(-0.4)"
   ]
  },
  {
   "cell_type": "code",
   "execution_count": null,
   "metadata": {
    "collapsed": false
   },
   "outputs": [],
   "source": []
  }
 ],
 "metadata": {
  "kernelspec": {
   "display_name": "Python 3",
   "language": "python",
   "name": "python3"
  },
  "language_info": {
   "codemirror_mode": {
    "name": "ipython",
    "version": 3
   },
   "file_extension": ".py",
   "mimetype": "text/x-python",
   "name": "python",
   "nbconvert_exporter": "python",
   "pygments_lexer": "ipython3",
   "version": "3.10.12"
  }
 },
 "nbformat": 4,
 "nbformat_minor": 0
}
